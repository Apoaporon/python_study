{
 "cells": [
  {
   "cell_type": "code",
   "execution_count": 2,
   "metadata": {},
   "outputs": [],
   "source": [
    "import numpy as np"
   ]
  },
  {
   "cell_type": "code",
   "execution_count": 4,
   "metadata": {},
   "outputs": [
    {
     "data": {
      "text/plain": [
       "array([1, 2, 3])"
      ]
     },
     "execution_count": 4,
     "metadata": {},
     "output_type": "execute_result"
    }
   ],
   "source": [
    "a = np.array([1,2,3])\n",
    "a"
   ]
  },
  {
   "cell_type": "code",
   "execution_count": 6,
   "metadata": {},
   "outputs": [
    {
     "name": "stdout",
     "output_type": "stream",
     "text": [
      "[1 2 3]\n",
      "<class 'numpy.ndarray'>\n"
     ]
    },
    {
     "data": {
      "text/plain": [
       "(3,)"
      ]
     },
     "execution_count": 6,
     "metadata": {},
     "output_type": "execute_result"
    }
   ],
   "source": [
    "# printをつけるとarray表記でなくなる\n",
    "print(a)\n",
    "# typeはndarray objectになります\n",
    "print(type(a))\n",
    "# 1次元配列3要素であることがわかる\n",
    "a.shape"
   ]
  },
  {
   "cell_type": "code",
   "execution_count": 7,
   "metadata": {},
   "outputs": [
    {
     "data": {
      "text/plain": [
       "array([[1, 2, 3],\n",
       "       [4, 5, 6]])"
      ]
     },
     "execution_count": 7,
     "metadata": {},
     "output_type": "execute_result"
    }
   ],
   "source": [
    "# 2次元配列を指定\n",
    "b = np.array([[1,2,3],[4,5,6]])\n",
    "b"
   ]
  },
  {
   "cell_type": "code",
   "execution_count": 9,
   "metadata": {},
   "outputs": [
    {
     "data": {
      "text/plain": [
       "(2, 3)"
      ]
     },
     "execution_count": 9,
     "metadata": {},
     "output_type": "execute_result"
    }
   ],
   "source": [
    "# 2×3行列であることが読み取れる\n",
    "b.shape"
   ]
  },
  {
   "cell_type": "code",
   "execution_count": 12,
   "metadata": {},
   "outputs": [
    {
     "data": {
      "text/plain": [
       "array([[0, 1, 2],\n",
       "       [3, 4, 5]])"
      ]
     },
     "execution_count": 12,
     "metadata": {},
     "output_type": "execute_result"
    }
   ],
   "source": [
    "c1 = np.array([0,1,2,3,4,5])\n",
    "# 変形(a×b行列に変換)\n",
    "c2 = c1.reshape((2,3))\n",
    "# reshapeは要素数が重要 = 要素数が合わない場合はエラーになります\n",
    "# c2 = c1.reshape((3,4)) <- これはダメ\n",
    "c2"
   ]
  },
  {
   "cell_type": "markdown",
   "metadata": {},
   "source": [
    "#### 参照とコピー\n",
    "- ravel:参照\n",
    "- flatten:コピー\n",
    "\n",
    "- 参照は変数に代入されたオブジェクトのメモリ上のアドレスを指します。\n",
    "- コピーとは変数に代入されたオブジェクトを複製して新しいオブジェクトを作成することを指します。\n",
    "- python標準のリストではスライスした結果はコピーが渡される\n",
    "- Numpyでは、スライスの結果は参照が渡されるので注意！\n",
    "- Pythonの標準リスト型では浅いコピーと深いコピーが区別される\n",
    "- Numpyのcopyメソッドはオブジェクトを別に生成するので標準の深いコピーと同値であるとわかる\n",
    "\n",
    "#### 浅いコピー　深いコピー\n",
    "- pythonには2種類のコピーが存在\n",
    "- 浅いコピー\n",
    "    - オブジェクトのコピーを作成しますが、コピーされたオブジェクトの内部に含まれる他のオブジェクトについては、参照がコピー\n",
    "    - 『深いコピー』とは、オブジェクトのコピーをすべて作成します。"
   ]
  },
  {
   "cell_type": "markdown",
   "metadata": {},
   "source": []
  },
  {
   "cell_type": "code",
   "execution_count": 13,
   "metadata": {},
   "outputs": [
    {
     "data": {
      "text/plain": [
       "array([0, 1, 2, 3, 4, 5])"
      ]
     },
     "execution_count": 13,
     "metadata": {},
     "output_type": "execute_result"
    }
   ],
   "source": [
    "# ravelメソッドは1次元配列に変換するメソッド\n",
    "c3 = c2.ravel()\n",
    "c3"
   ]
  },
  {
   "cell_type": "code",
   "execution_count": 14,
   "metadata": {},
   "outputs": [
    {
     "data": {
      "text/plain": [
       "array([0, 1, 2, 3, 4, 5])"
      ]
     },
     "execution_count": 14,
     "metadata": {},
     "output_type": "execute_result"
    }
   ],
   "source": [
    "c4 = c2.flatten()\n",
    "c4"
   ]
  },
  {
   "cell_type": "code",
   "execution_count": 19,
   "metadata": {},
   "outputs": [
    {
     "name": "stdout",
     "output_type": "stream",
     "text": [
      "1,2は新規オブジェクトが生成されるが[3,4,5]については、参照として複製\n",
      "[1, 2, [3, 4, 5]]\n",
      "[1, 2, [3, 4, 5]]\n",
      "deepcopyは全く同じオブジェクトを生成します\n",
      "[1, 2, [3, 4, 5]]\n",
      "[1, 2, [3, 4, 5]]\n"
     ]
    }
   ],
   "source": [
    "# 浅いコピー\n",
    "import copy\n",
    "a = [1, 2, [3, 4, 5]]\n",
    "b = a.copy()\n",
    "print(\"1,2は新規オブジェクトが生成されるが[3,4,5]については、参照として複製\")\n",
    "print(a)\n",
    "print(b)\n",
    "# 深いコピー\n",
    "c = copy.deepcopy(a)\n",
    "print(\"deepcopyは全く同じオブジェクトを生成します\")\n",
    "print(a)\n",
    "print(c)"
   ]
  },
  {
   "cell_type": "code",
   "execution_count": 69,
   "metadata": {},
   "outputs": [
    {
     "name": "stdout",
     "output_type": "stream",
     "text": [
      "[1 2 3]\n",
      "[1 2 4]\n",
      "[[1 2 3]\n",
      " [4 5 6]]\n",
      "[[1 2 3]\n",
      " [4 5 7]]\n"
     ]
    }
   ],
   "source": [
    "a = np.array([1,2,3])\n",
    "print(a)\n",
    "# インデックスを指定してその要素を変更することができる\n",
    "a[2] = 4\n",
    "print(a)\n",
    "\n",
    "b = np.array([[1,2,3],[4,5,6]])\n",
    "print(b)\n",
    "b[1,2] = 7 # 2行目の3番目の要素を置き換える\n",
    "print(b)"
   ]
  },
  {
   "cell_type": "code",
   "execution_count": 71,
   "metadata": {},
   "outputs": [
    {
     "name": "stdout",
     "output_type": "stream",
     "text": [
      "[1 2 3] [1 2 3]\n",
      "[1 5 3] [1 5 3]\n"
     ]
    }
   ],
   "source": [
    "# 参照\n",
    "a = np.array([1,2,3])\n",
    "a1 = a\n",
    "print(a1, a)\n",
    "a1[1] = 5\n",
    "# aの値を変えていないのにどちらの要素も変更されている\n",
    "print(a1, a)"
   ]
  },
  {
   "cell_type": "code",
   "execution_count": 72,
   "metadata": {},
   "outputs": [
    {
     "name": "stdout",
     "output_type": "stream",
     "text": [
      "[1 2 3] [1 2 3]\n",
      "[100   2   3] [1 2 3]\n"
     ]
    }
   ],
   "source": [
    "# コピー\n",
    "a = np.array([1,2,3])\n",
    "a2 = a.copy()\n",
    "print(a2, a)\n",
    "a2[0] = 100\n",
    "# copyで生成したa2の値を変更してもaの行列はそのままになっている\n",
    "print(a2, a)"
   ]
  },
  {
   "cell_type": "code",
   "execution_count": 74,
   "metadata": {},
   "outputs": [
    {
     "name": "stdout",
     "output_type": "stream",
     "text": [
      "[[0 1 2]\n",
      " [3 4 5]] [0 1 2 3 4 5]\n",
      "[[0 1 2]\n",
      " [3 4 5]] [0 1 2 3 4 5]\n",
      "[[100   1   2]\n",
      " [  3   4   5]] [100   1   2   3   4   5]\n",
      "[[100   1   2]\n",
      " [  3   4   5]] [200   1   2   3   4   5]\n"
     ]
    }
   ],
   "source": [
    "c2 = np.array([[0,1,2],[3,4,5]])\n",
    "c3 = c2.ravel()\n",
    "c4 = c2.flatten()\n",
    "print(c2, c3)\n",
    "print(c2, c4)\n",
    "c3[0] = 100 # c2をravelで1次元に戻したものは参照なので、元の行列に影響\n",
    "c4[0] = 200 # c2をflattenで1次元に戻したものはコピーなので、元の行列に影響しない\n",
    "print(c2, c3)\n",
    "print(c2, c4)\n"
   ]
  },
  {
   "cell_type": "code",
   "execution_count": 78,
   "metadata": {},
   "outputs": [
    {
     "name": "stdout",
     "output_type": "stream",
     "text": [
      "[0, 1] [0, 1]\n",
      "[0, 1] [20, 1]\n",
      "=======================\n",
      "[0 1] [0 1]\n",
      "[100   1] [100   1]\n"
     ]
    }
   ],
   "source": [
    "py_list1 = [0,1]\n",
    "py_list2 = py_list1[:] # python標準のスライスはコピー\n",
    "print(py_list1, py_list2)\n",
    "py_list2[0] = 20\n",
    "print(py_list1, py_list2)\n",
    "\n",
    "print(\"=======================\")\n",
    "np_array1 = np.array([0,1])\n",
    "np_array2 = np_array1[:] # Numpyのスライスは参照として生成\n",
    "print(np_array1, np_array2)\n",
    "np_array2[0] = 100\n",
    "print(np_array1, np_array2)\n"
   ]
  },
  {
   "cell_type": "code",
   "execution_count": 21,
   "metadata": {},
   "outputs": [
    {
     "data": {
      "text/plain": [
       "dtype('int64')"
      ]
     },
     "execution_count": 21,
     "metadata": {},
     "output_type": "execute_result"
    }
   ],
   "source": [
    "a = np.array([1,2,3])\n",
    "# windowsはnp.int32 linuxはnp.int64が割り当てられる\n",
    "a.dtype"
   ]
  },
  {
   "cell_type": "code",
   "execution_count": 25,
   "metadata": {},
   "outputs": [
    {
     "data": {
      "text/plain": [
       "dtype('int16')"
      ]
     },
     "execution_count": 25,
     "metadata": {},
     "output_type": "execute_result"
    }
   ],
   "source": [
    "d = np.array([1,2], dtype=np.int16)\n",
    "d.dtype\n"
   ]
  },
  {
   "cell_type": "code",
   "execution_count": 26,
   "metadata": {},
   "outputs": [
    {
     "data": {
      "text/plain": [
       "array([1., 2.], dtype=float16)"
      ]
     },
     "execution_count": 26,
     "metadata": {},
     "output_type": "execute_result"
    }
   ],
   "source": [
    "d.astype(np.float16)\n"
   ]
  },
  {
   "cell_type": "code",
   "execution_count": 28,
   "metadata": {},
   "outputs": [
    {
     "name": "stdout",
     "output_type": "stream",
     "text": [
      "[1 2 3]\n",
      "1\n",
      "[2 3]\n",
      "[1 2]\n"
     ]
    }
   ],
   "source": [
    "# numpyの配列でもスライスは活用することができる\n",
    "print(a)\n",
    "print(a[0])\n",
    "print(a[1:])\n",
    "print(a[:-1])\n"
   ]
  },
  {
   "cell_type": "code",
   "execution_count": 67,
   "metadata": {},
   "outputs": [
    {
     "name": "stdout",
     "output_type": "stream",
     "text": [
      "[1 2 3]\n",
      "4\n",
      "[[1 2 3]\n",
      " [4 5 6]]\n",
      "[3 6 9]\n",
      "[[4 5 6]\n",
      " [7 8 9]]\n",
      "#######\n",
      "[7 8 9]\n",
      "######\n",
      "[2 3]\n",
      "[5 8]\n",
      "###################\n",
      "[[1 3]\n",
      " [4 6]\n",
      " [7 9]]\n"
     ]
    }
   ],
   "source": [
    "b = np.array([[1,2,3],[4,5,6],[7,8,9]])\n",
    "print(b[0])\n",
    "print(b[1,0])\n",
    "print(b[:2]) # <- この書き方だと普通のスライス\n",
    "print(b[:,2])# <- ,2にすると全ての行の3番目の要素を抽出\n",
    "print(b[1:])# <- \n",
    "print(\"#######\")\n",
    "print(b[2,:])# <- 2, = 2, = 2番目の行 = [7,8,9] :=全ての要素\n",
    "# print(b[1,:,1]) <-　この指定方法は誤り\n",
    "print(\"######\")\n",
    "print(b[0,1:]) # <- 0, = 0番目の行 = [1,2,3] 1: = 2つ目の要素以降\n",
    "print(b[1: ,1]) # <- 1: = 1番目の行から最後の行 = [4,5,6],[7,8,9] ,1 = 各行の1番目 = 5,8\n",
    "print(\"###################\")\n",
    "print(b[:,[0,2]]) # <- : = 全ての行 [0,2] = 1番目の要素と3番目の要素を取得\n"
   ]
  },
  {
   "cell_type": "code",
   "execution_count": null,
   "metadata": {},
   "outputs": [],
   "source": []
  }
 ],
 "metadata": {
  "kernelspec": {
   "display_name": "Python 3 (ipykernel)",
   "language": "python",
   "name": "python3"
  },
  "language_info": {
   "codemirror_mode": {
    "name": "ipython",
    "version": 3
   },
   "file_extension": ".py",
   "mimetype": "text/x-python",
   "name": "python",
   "nbconvert_exporter": "python",
   "pygments_lexer": "ipython3",
   "version": "3.11.0"
  }
 },
 "nbformat": 4,
 "nbformat_minor": 4
}
