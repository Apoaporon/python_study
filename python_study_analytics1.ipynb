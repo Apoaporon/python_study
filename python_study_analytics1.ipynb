{
 "cells": [
  {
   "cell_type": "code",
   "execution_count": 2,
   "metadata": {},
   "outputs": [],
   "source": [
    "import numpy as np"
   ]
  },
  {
   "cell_type": "code",
   "execution_count": 4,
   "metadata": {},
   "outputs": [
    {
     "data": {
      "text/plain": [
       "array([1, 2, 3])"
      ]
     },
     "execution_count": 4,
     "metadata": {},
     "output_type": "execute_result"
    }
   ],
   "source": [
    "a = np.array([1,2,3])\n",
    "a"
   ]
  },
  {
   "cell_type": "code",
   "execution_count": 6,
   "metadata": {},
   "outputs": [
    {
     "name": "stdout",
     "output_type": "stream",
     "text": [
      "[1 2 3]\n",
      "<class 'numpy.ndarray'>\n"
     ]
    },
    {
     "data": {
      "text/plain": [
       "(3,)"
      ]
     },
     "execution_count": 6,
     "metadata": {},
     "output_type": "execute_result"
    }
   ],
   "source": [
    "# printをつけるとarray表記でなくなる\n",
    "print(a)\n",
    "# typeはndarray objectになります\n",
    "print(type(a))\n",
    "# 1次元配列3要素であることがわかる\n",
    "a.shape"
   ]
  },
  {
   "cell_type": "code",
   "execution_count": 7,
   "metadata": {},
   "outputs": [
    {
     "data": {
      "text/plain": [
       "array([[1, 2, 3],\n",
       "       [4, 5, 6]])"
      ]
     },
     "execution_count": 7,
     "metadata": {},
     "output_type": "execute_result"
    }
   ],
   "source": [
    "# 2次元配列を指定\n",
    "b = np.array([[1,2,3],[4,5,6]])\n",
    "b"
   ]
  },
  {
   "cell_type": "code",
   "execution_count": 9,
   "metadata": {},
   "outputs": [
    {
     "data": {
      "text/plain": [
       "(2, 3)"
      ]
     },
     "execution_count": 9,
     "metadata": {},
     "output_type": "execute_result"
    }
   ],
   "source": [
    "# 2×3行列であることが読み取れる\n",
    "b.shape"
   ]
  },
  {
   "cell_type": "code",
   "execution_count": 12,
   "metadata": {},
   "outputs": [
    {
     "data": {
      "text/plain": [
       "array([[0, 1, 2],\n",
       "       [3, 4, 5]])"
      ]
     },
     "execution_count": 12,
     "metadata": {},
     "output_type": "execute_result"
    }
   ],
   "source": [
    "c1 = np.array([0,1,2,3,4,5])\n",
    "# 変形(a×b行列に変換)\n",
    "c2 = c1.reshape((2,3))\n",
    "# reshapeは要素数が重要 = 要素数が合わない場合はエラーになります\n",
    "# c2 = c1.reshape((3,4)) <- これはダメ\n",
    "c2"
   ]
  },
  {
   "cell_type": "markdown",
   "metadata": {},
   "source": [
    "#### 参照とコピー\n",
    "- ravel:参照\n",
    "- flatten:コピー\n",
    "\n",
    "- 参照は変数に代入されたオブジェクトのメモリ上のアドレスを指します。\n",
    "- コピーとは変数に代入されたオブジェクトを複製して新しいオブジェクトを作成することを指します。\n",
    "- python標準のリストではスライスした結果はコピーが渡される\n",
    "- Numpyでは、スライスの結果は参照が渡されるので注意！\n",
    "- Pythonの標準リスト型では浅いコピーと深いコピーが区別される\n",
    "- Numpyのcopyメソッドはオブジェクトを別に生成するので標準の深いコピーと同値であるとわかる\n",
    "\n",
    "#### 浅いコピー　深いコピー\n",
    "- pythonには2種類のコピーが存在\n",
    "- 浅いコピー\n",
    "    - オブジェクトのコピーを作成しますが、コピーされたオブジェクトの内部に含まれる他のオブジェクトについては、参照がコピー\n",
    "    - 『深いコピー』とは、オブジェクトのコピーをすべて作成します。"
   ]
  },
  {
   "cell_type": "markdown",
   "metadata": {},
   "source": []
  },
  {
   "cell_type": "code",
   "execution_count": 13,
   "metadata": {},
   "outputs": [
    {
     "data": {
      "text/plain": [
       "array([0, 1, 2, 3, 4, 5])"
      ]
     },
     "execution_count": 13,
     "metadata": {},
     "output_type": "execute_result"
    }
   ],
   "source": [
    "# ravelメソッドは1次元配列に変換するメソッド\n",
    "c3 = c2.ravel()\n",
    "c3"
   ]
  },
  {
   "cell_type": "code",
   "execution_count": 14,
   "metadata": {},
   "outputs": [
    {
     "data": {
      "text/plain": [
       "array([0, 1, 2, 3, 4, 5])"
      ]
     },
     "execution_count": 14,
     "metadata": {},
     "output_type": "execute_result"
    }
   ],
   "source": [
    "c4 = c2.flatten()\n",
    "c4"
   ]
  },
  {
   "cell_type": "code",
   "execution_count": 19,
   "metadata": {},
   "outputs": [
    {
     "name": "stdout",
     "output_type": "stream",
     "text": [
      "1,2は新規オブジェクトが生成されるが[3,4,5]については、参照として複製\n",
      "[1, 2, [3, 4, 5]]\n",
      "[1, 2, [3, 4, 5]]\n",
      "deepcopyは全く同じオブジェクトを生成します\n",
      "[1, 2, [3, 4, 5]]\n",
      "[1, 2, [3, 4, 5]]\n"
     ]
    }
   ],
   "source": [
    "# 浅いコピー\n",
    "import copy\n",
    "a = [1, 2, [3, 4, 5]]\n",
    "b = a.copy()\n",
    "print(\"1,2は新規オブジェクトが生成されるが[3,4,5]については、参照として複製\")\n",
    "print(a)\n",
    "print(b)\n",
    "# 深いコピー\n",
    "c = copy.deepcopy(a)\n",
    "print(\"deepcopyは全く同じオブジェクトを生成します\")\n",
    "print(a)\n",
    "print(c)"
   ]
  },
  {
   "cell_type": "code",
   "execution_count": 69,
   "metadata": {},
   "outputs": [
    {
     "name": "stdout",
     "output_type": "stream",
     "text": [
      "[1 2 3]\n",
      "[1 2 4]\n",
      "[[1 2 3]\n",
      " [4 5 6]]\n",
      "[[1 2 3]\n",
      " [4 5 7]]\n"
     ]
    }
   ],
   "source": [
    "a = np.array([1,2,3])\n",
    "print(a)\n",
    "# インデックスを指定してその要素を変更することができる\n",
    "a[2] = 4\n",
    "print(a)\n",
    "\n",
    "b = np.array([[1,2,3],[4,5,6]])\n",
    "print(b)\n",
    "b[1,2] = 7 # 2行目の3番目の要素を置き換える\n",
    "print(b)"
   ]
  },
  {
   "cell_type": "code",
   "execution_count": 71,
   "metadata": {},
   "outputs": [
    {
     "name": "stdout",
     "output_type": "stream",
     "text": [
      "[1 2 3] [1 2 3]\n",
      "[1 5 3] [1 5 3]\n"
     ]
    }
   ],
   "source": [
    "# 参照\n",
    "a = np.array([1,2,3])\n",
    "a1 = a\n",
    "print(a1, a)\n",
    "a1[1] = 5\n",
    "# aの値を変えていないのにどちらの要素も変更されている\n",
    "print(a1, a)"
   ]
  },
  {
   "cell_type": "code",
   "execution_count": 72,
   "metadata": {},
   "outputs": [
    {
     "name": "stdout",
     "output_type": "stream",
     "text": [
      "[1 2 3] [1 2 3]\n",
      "[100   2   3] [1 2 3]\n"
     ]
    }
   ],
   "source": [
    "# コピー\n",
    "a = np.array([1,2,3])\n",
    "a2 = a.copy()\n",
    "print(a2, a)\n",
    "a2[0] = 100\n",
    "# copyで生成したa2の値を変更してもaの行列はそのままになっている\n",
    "print(a2, a)"
   ]
  },
  {
   "cell_type": "code",
   "execution_count": 74,
   "metadata": {},
   "outputs": [
    {
     "name": "stdout",
     "output_type": "stream",
     "text": [
      "[[0 1 2]\n",
      " [3 4 5]] [0 1 2 3 4 5]\n",
      "[[0 1 2]\n",
      " [3 4 5]] [0 1 2 3 4 5]\n",
      "[[100   1   2]\n",
      " [  3   4   5]] [100   1   2   3   4   5]\n",
      "[[100   1   2]\n",
      " [  3   4   5]] [200   1   2   3   4   5]\n"
     ]
    }
   ],
   "source": [
    "c2 = np.array([[0,1,2],[3,4,5]])\n",
    "c3 = c2.ravel()\n",
    "c4 = c2.flatten()\n",
    "print(c2, c3)\n",
    "print(c2, c4)\n",
    "c3[0] = 100 # c2をravelで1次元に戻したものは参照なので、元の行列に影響\n",
    "c4[0] = 200 # c2をflattenで1次元に戻したものはコピーなので、元の行列に影響しない\n",
    "print(c2, c3)\n",
    "print(c2, c4)\n"
   ]
  },
  {
   "cell_type": "code",
   "execution_count": 78,
   "metadata": {},
   "outputs": [
    {
     "name": "stdout",
     "output_type": "stream",
     "text": [
      "[0, 1] [0, 1]\n",
      "[0, 1] [20, 1]\n",
      "=======================\n",
      "[0 1] [0 1]\n",
      "[100   1] [100   1]\n"
     ]
    }
   ],
   "source": [
    "py_list1 = [0,1]\n",
    "py_list2 = py_list1[:] # python標準のスライスはコピー\n",
    "print(py_list1, py_list2)\n",
    "py_list2[0] = 20\n",
    "print(py_list1, py_list2)\n",
    "\n",
    "print(\"=======================\")\n",
    "np_array1 = np.array([0,1])\n",
    "np_array2 = np_array1[:] # Numpyのスライスは参照として生成\n",
    "print(np_array1, np_array2)\n",
    "np_array2[0] = 100\n",
    "print(np_array1, np_array2)\n"
   ]
  },
  {
   "cell_type": "code",
   "execution_count": 21,
   "metadata": {},
   "outputs": [
    {
     "data": {
      "text/plain": [
       "dtype('int64')"
      ]
     },
     "execution_count": 21,
     "metadata": {},
     "output_type": "execute_result"
    }
   ],
   "source": [
    "a = np.array([1,2,3])\n",
    "# windowsはnp.int32 linuxはnp.int64が割り当てられる\n",
    "a.dtype"
   ]
  },
  {
   "cell_type": "code",
   "execution_count": 25,
   "metadata": {},
   "outputs": [
    {
     "data": {
      "text/plain": [
       "dtype('int16')"
      ]
     },
     "execution_count": 25,
     "metadata": {},
     "output_type": "execute_result"
    }
   ],
   "source": [
    "d = np.array([1,2], dtype=np.int16)\n",
    "d.dtype\n"
   ]
  },
  {
   "cell_type": "code",
   "execution_count": 26,
   "metadata": {},
   "outputs": [
    {
     "data": {
      "text/plain": [
       "array([1., 2.], dtype=float16)"
      ]
     },
     "execution_count": 26,
     "metadata": {},
     "output_type": "execute_result"
    }
   ],
   "source": [
    "d.astype(np.float16)\n"
   ]
  },
  {
   "cell_type": "code",
   "execution_count": 28,
   "metadata": {},
   "outputs": [
    {
     "name": "stdout",
     "output_type": "stream",
     "text": [
      "[1 2 3]\n",
      "1\n",
      "[2 3]\n",
      "[1 2]\n"
     ]
    }
   ],
   "source": [
    "# numpyの配列でもスライスは活用することができる\n",
    "print(a)\n",
    "print(a[0])\n",
    "print(a[1:])\n",
    "print(a[:-1])\n"
   ]
  },
  {
   "cell_type": "code",
   "execution_count": 67,
   "metadata": {},
   "outputs": [
    {
     "name": "stdout",
     "output_type": "stream",
     "text": [
      "[1 2 3]\n",
      "4\n",
      "[[1 2 3]\n",
      " [4 5 6]]\n",
      "[3 6 9]\n",
      "[[4 5 6]\n",
      " [7 8 9]]\n",
      "#######\n",
      "[7 8 9]\n",
      "######\n",
      "[2 3]\n",
      "[5 8]\n",
      "###################\n",
      "[[1 3]\n",
      " [4 6]\n",
      " [7 9]]\n"
     ]
    }
   ],
   "source": [
    "b = np.array([[1,2,3],[4,5,6],[7,8,9]])\n",
    "print(b[0])\n",
    "print(b[1,0])\n",
    "print(b[:2]) # <- この書き方だと普通のスライス\n",
    "print(b[:,2])# <- ,2にすると全ての行の3番目の要素を抽出\n",
    "print(b[1:])# <- \n",
    "print(\"#######\")\n",
    "print(b[2,:])# <- 2, = 2, = 2番目の行 = [7,8,9] :=全ての要素\n",
    "# print(b[1,:,1]) <-　この指定方法は誤り\n",
    "print(\"######\")\n",
    "print(b[0,1:]) # <- 0, = 0番目の行 = [1,2,3] 1: = 2つ目の要素以降\n",
    "print(b[1: ,1]) # <- 1: = 1番目の行から最後の行 = [4,5,6],[7,8,9] ,1 = 各行の1番目 = 5,8\n",
    "print(\"###################\")\n",
    "print(b[:,[0,2]]) # <- : = 全ての行 [0,2] = 1番目の要素と3番目の要素を取得\n"
   ]
  },
  {
   "cell_type": "code",
   "execution_count": 81,
   "metadata": {},
   "outputs": [
    {
     "name": "stdout",
     "output_type": "stream",
     "text": [
      "[0 1 2 3 4 5 6 7 8 9]\n",
      "[ 1  2  3  4  5  6  7  8  9 10]\n",
      "[1 3 5 7 9]\n"
     ]
    }
   ],
   "source": [
    "# 数列を返す\n",
    "# 通常のfor文と指定の仕方が似ているところがあります\n",
    "a = np.arange(10)\n",
    "b = np.arange(1,11)\n",
    "c = np.arange(1, 11, 2)\n",
    "print(a)\n",
    "print(b)\n",
    "print(c)"
   ]
  },
  {
   "cell_type": "markdown",
   "metadata": {},
   "source": [
    "#### 乱数\n",
    "- 一様乱数：範囲の中からデータをランダムにピックアップするようなイメージです\n",
    "    - np.random.Generator.random\n",
    "- 正規分布乱数：正規分布に従った乱数を出力する方法がある\n",
    "    - np.random.Generator.standard_normal"
   ]
  },
  {
   "cell_type": "code",
   "execution_count": 97,
   "metadata": {},
   "outputs": [
    {
     "name": "stdout",
     "output_type": "stream",
     "text": [
      "[[0.91693121 0.65713274]\n",
      " [0.95313518 0.75252398]\n",
      " [0.85983215 0.27610646]]\n",
      "[[0.68235186 0.05382102]\n",
      " [0.22035987 0.18437181]\n",
      " [0.1759059  0.81209451]]\n",
      "1\n",
      "[[1 7 6]\n",
      " [1 9 2]\n",
      " [3 2 4]]\n",
      "[[1.35233177 2.69265314 1.06634214]\n",
      " [4.97767912 0.04039594 2.66985794]]\n",
      "[[0.61881018 0.39696833 0.03191712]\n",
      " [0.80557437 0.18050622 0.7433831 ]\n",
      " [0.15498171 0.81653442 0.87829492]\n",
      " [0.61214965 0.7787233  0.16509966]]\n"
     ]
    }
   ],
   "source": [
    "# random数値を返す\n",
    "# 旧式generator, 最新generatorがありますが、今回は最新の方をレクチャー\n",
    "rng = np.random.default_rng() # <- object生成\n",
    "f = rng.random((3,2)) # m行 * n列という指定で 0<= x < 1までの数値を返す\n",
    "\n",
    "rng2 = np.random.default_rng(123) # seed値を設定することで、randomで返却される値を固定できる\n",
    "f2 = rng2.random((3,2))\n",
    "print(f)\n",
    "print(f2)\n",
    "\n",
    "# 特定の範囲内の数値を生成\n",
    "rng3 = np.random.default_rng(123)\n",
    "f3 = rng3.integers(1,10) # 指定した範囲の数値から1つの値を返す\n",
    "print(f3)\n",
    "\n",
    "rng4 = np.random.default_rng(123)\n",
    "# 第一引数、第二引数は省略可 default 0.0 <= x < 1.0\n",
    "f4 = rng4.integers(1, 10, size=(3,3)) # 第一引数 <= x < 第二引数未満　でランダム整数値を size keyword引数でタプルを渡した行と列を生成\n",
    "print(f4)\n",
    "\n",
    "rng5 = np.random.default_rng(123)\n",
    "# uniformを設定すると返却値がfloatになる\n",
    "f5 = rng.uniform(0.0, 5.0, size=(2,3))\n",
    "print(f5)\n",
    "f6 = rng.uniform(size=(4,3))\n",
    "print(f6)\n"
   ]
  },
  {
   "cell_type": "code",
   "execution_count": 100,
   "metadata": {},
   "outputs": [
    {
     "name": "stdout",
     "output_type": "stream",
     "text": [
      "[[-0.98912135 -0.36778665]\n",
      " [ 1.28792526  0.19397442]\n",
      " [ 0.9202309   0.57710379]\n",
      " [-0.63646365  0.54195222]]\n",
      "[46.83404549 46.77610884 50.97167319]\n"
     ]
    }
   ],
   "source": [
    "# 正規分布に従った乱数\n",
    "rng = np.random.default_rng(123)\n",
    "# 平均0, 分散1の分布で出力\n",
    "x = rng.standard_normal(size=(4,2))\n",
    "print(x)\n",
    "# 平均, 標準偏差, 出力数を指定\n",
    "y = rng.normal(50, 10, 3)\n",
    "print(y)"
   ]
  },
  {
   "cell_type": "code",
   "execution_count": 109,
   "metadata": {},
   "outputs": [
    {
     "name": "stdout",
     "output_type": "stream",
     "text": [
      "[0. 0. 0.]\n",
      "[[0. 0. 0.]\n",
      " [0. 0. 0.]]\n",
      "[1. 1.]\n",
      "[[1. 1. 1.]\n",
      " [1. 1. 1.]]\n",
      "#############\n",
      "[[1. 0. 0.]\n",
      " [0. 1. 0.]\n",
      " [0. 0. 1.]]\n",
      "====指定の値で作成=====\n",
      "[[3.14 3.14 3.14]\n",
      " [3.14 3.14 3.14]\n",
      " [3.14 3.14 3.14]]\n",
      "[[3.14159265 3.14159265 3.14159265]\n",
      " [3.14159265 3.14159265 3.14159265]\n",
      " [3.14159265 3.14159265 3.14159265]]\n"
     ]
    }
   ],
   "source": [
    "# 同じ要素の数列を作成\n",
    "a1 = np.zeros(3) # 指定引数分0の入った配列を返す\n",
    "print(a1)\n",
    "a2 = np.zeros((2,3)) # 指定行列分0の入った行列を返す\n",
    "print(a2)\n",
    "a3 = np.ones(2)# 指定引数分1の入った配列を返す\n",
    "print(a3)\n",
    "a4 = np.ones((2,3))# 指定行列分1の入った行列を返す\n",
    "print(a4)\n",
    "\n",
    "print(\"#############\")\n",
    "# 単位行列の作成\n",
    "a5 = np.eye(3)\n",
    "print(a5)\n",
    "print(\"====指定の値で作成=====\")\n",
    "a6 = np.full((3,3), 3.14) # 第一引数が行列の指定、第二引数が指定値\n",
    "print(a6)\n",
    "a7 = np.full((3,3), np.pi) # np.piで円周率を指定できる\n",
    "print(a7)\n",
    "\n"
   ]
  },
  {
   "cell_type": "markdown",
   "metadata": {},
   "source": [
    "### 欠損値 Nan\n",
    "- Nan: not a number\n",
    "    - 数値ではないことを宣言\n",
    "    - ただし、データ型としては、float"
   ]
  },
  {
   "cell_type": "code",
   "execution_count": 113,
   "metadata": {},
   "outputs": [
    {
     "name": "stdout",
     "output_type": "stream",
     "text": [
      "nan\n",
      "[ 1.  2. nan]\n"
     ]
    }
   ],
   "source": [
    "# 欠損値の穴埋め Nan\n",
    "print(np.nan)\n",
    "a = np.array([1,2, np.nan])\n",
    "print(a)\n",
    "\n"
   ]
  },
  {
   "cell_type": "code",
   "execution_count": 117,
   "metadata": {},
   "outputs": [
    {
     "name": "stdout",
     "output_type": "stream",
     "text": [
      "[0.   0.25 0.5  0.75 1.  ]\n",
      "[0.         0.15707963 0.31415927 0.4712389  0.62831853 0.78539816\n",
      " 0.9424778  1.09955743 1.25663706 1.41371669 1.57079633 1.72787596\n",
      " 1.88495559 2.04203522 2.19911486 2.35619449 2.51327412 2.67035376\n",
      " 2.82743339 2.98451302 3.14159265]\n",
      "====要素間の差分=====\n",
      "[ 0  4 -5  2]\n"
     ]
    }
   ],
   "source": [
    "# 指定範囲で均等割データを作成\n",
    "a = np.linspace(0, 1, 5)\n",
    "print(a)\n",
    "\n",
    "b = np.linspace(0, np.pi, 21)\n",
    "print(b)\n",
    "\n",
    "print(\"====要素間の差分=====\")\n",
    "c = np.array([2,2,6,1,3])\n",
    "print(np.diff(c)) # 隣り合う要素の差分を表示\n"
   ]
  },
  {
   "cell_type": "markdown",
   "metadata": {},
   "source": [
    "#### 連結"
   ]
  },
  {
   "cell_type": "code",
   "execution_count": 125,
   "metadata": {},
   "outputs": [
    {
     "name": "stdout",
     "output_type": "stream",
     "text": [
      "====行列の連結=======\n",
      "[1 2 3 2 3 4]\n",
      "=================\n",
      "[[ 1  2  3 10]\n",
      " [ 2  3  4 20]]\n",
      "hstack関数でも同様に列方向に連結\n",
      "[[ 1  2  3 10]\n",
      " [ 2  3  4 20]]\n",
      "vstack関数で行方向に連結\n",
      "[[ 1  2  3]\n",
      " [ 2  3  4]\n",
      " [10 20 30]]\n"
     ]
    }
   ],
   "source": [
    "print(\"====行列の連結=======\")\n",
    "a = np.array([1,2,3])\n",
    "b = np.array([2,3,4])\n",
    "c = np.concatenate([a, b])\n",
    "print(c)\n",
    "\n",
    "print(\"=================\")\n",
    "d1 = np.array([[1,2,3], [2,3,4]])\n",
    "d2 = np.array([[10],[20]])\n",
    "d3 = np.concatenate([d1, d2], axis=1) # axisはどの方向で連結するか 0：行方向、1:列方向\n",
    "print(d3)\n",
    "\n",
    "print(\"hstack関数でも同様に列方向に連結\")\n",
    "e1 = np.hstack([d1, d2])\n",
    "print(e1)\n",
    "print(\"vstack関数で行方向に連結\")\n",
    "d4 = np.array([10,20,30])\n",
    "e2 = np.vstack([d1, d4])\n",
    "print(e2)"
   ]
  },
  {
   "cell_type": "markdown",
   "metadata": {},
   "source": [
    "#### 分割\n",
    "- hsplit:列方向で分割\n",
    "    - h = horizontal 水平方向のh\n",
    "- vsplit:行方向で分割\n",
    "    - v = vertical 垂直方向のv"
   ]
  },
  {
   "cell_type": "code",
   "execution_count": 130,
   "metadata": {},
   "outputs": [
    {
     "name": "stdout",
     "output_type": "stream",
     "text": [
      "[[ 1  2  3]\n",
      " [ 2  3  4]\n",
      " [10 20 30]]\n",
      "[[ 1  2]\n",
      " [ 2  3]\n",
      " [10 20]]\n",
      "[[ 3]\n",
      " [ 4]\n",
      " [30]]\n",
      "=====================\n",
      "[[1 2 3]\n",
      " [2 3 4]]\n",
      "[[10 20 30]]\n"
     ]
    }
   ],
   "source": [
    "print(e2)\n",
    "first, second = np.hsplit(e2, [2])\n",
    "print(first)\n",
    "print(second)\n",
    "print(\"=====================\")\n",
    "first1, second1 = np.vsplit(e2, [2])\n",
    "print(first1)\n",
    "print(second1)\n"
   ]
  },
  {
   "cell_type": "markdown",
   "metadata": {},
   "source": [
    "#### 転置\n",
    "- m×n行列をn×m行列に変換する"
   ]
  },
  {
   "cell_type": "code",
   "execution_count": 131,
   "metadata": {},
   "outputs": [
    {
     "name": "stdout",
     "output_type": "stream",
     "text": [
      "[[1 2 3]\n",
      " [4 5 6]\n",
      " [7 8 9]]\n",
      "[[1 4 7]\n",
      " [2 5 8]\n",
      " [3 6 9]]\n"
     ]
    }
   ],
   "source": [
    "a = np.array([[1,2,3],[4,5,6],[7,8,9]])\n",
    "print(a)\n",
    "a2 = a.T # <- 転置\n",
    "print(a2)"
   ]
  },
  {
   "cell_type": "markdown",
   "metadata": {},
   "source": [
    "#### 次元追加\n",
    "- newaxis or reshapeで追加できる\n",
    "    - newaxisは要素数の指定は必要ない\n",
    "    - reshapeでは要素数の指定が必要"
   ]
  },
  {
   "cell_type": "code",
   "execution_count": 134,
   "metadata": {},
   "outputs": [
    {
     "name": "stdout",
     "output_type": "stream",
     "text": [
      "[1 2 3]\n",
      "[[1 2 3]]\n",
      "[[1]\n",
      " [2]\n",
      " [3]]\n"
     ]
    }
   ],
   "source": [
    "a = np.array([1,2,3])\n",
    "print(a)\n",
    "a2 = a[np.newaxis, :] # <-行方向へ次元を増やす\n",
    "print(a2)\n",
    "a3 = a[:, np.newaxis] # <- 列方向へ次元を増やす\n",
    "print(a3)"
   ]
  },
  {
   "cell_type": "markdown",
   "metadata": {},
   "source": [
    "#### グリッドデータの生成"
   ]
  },
  {
   "cell_type": "code",
   "execution_count": 138,
   "metadata": {},
   "outputs": [
    {
     "name": "stdout",
     "output_type": "stream",
     "text": [
      "[0 1 2 3]\n",
      "[4 5 6]\n",
      "=======\n",
      "[[0 1 2 3]\n",
      " [0 1 2 3]\n",
      " [0 1 2 3]]\n",
      "=======\n",
      "[[4 4 4 4]\n",
      " [5 5 5 5]\n",
      " [6 6 6 6]]\n"
     ]
    }
   ],
   "source": [
    "m = np.arange(0, 4)\n",
    "print(m)\n",
    "n = np.arange(4,7)\n",
    "print(n)\n",
    "print(\"=======\")\n",
    "xx, yy = np.meshgrid(m, n)\n",
    "print(xx) # 第一引数 m を行方向に　第二引数 nの配列の長さ分コピーされる\n",
    "print(\"=======\")\n",
    "print(yy) # 第二引数 n を列方向に 第一引数 m の配列の長さ分コピー"
   ]
  },
  {
   "cell_type": "markdown",
   "metadata": {},
   "source": [
    "#### Numpyの各機能の確認"
   ]
  },
  {
   "cell_type": "code",
   "execution_count": 140,
   "metadata": {},
   "outputs": [
    {
     "name": "stdout",
     "output_type": "stream",
     "text": [
      "[0 1 2]\n",
      "[[-3 -2 -1]\n",
      " [ 0  1  2]]\n",
      "[[1 2 3]\n",
      " [4 5 6]]\n",
      "[[0 1]\n",
      " [2 3]\n",
      " [4 5]]\n",
      "[-1.         -0.77777778 -0.55555556 -0.33333333 -0.11111111  0.11111111\n",
      "  0.33333333  0.55555556  0.77777778  1.        ]\n",
      "==================\n",
      "(3,)\n",
      "(2, 3)\n",
      "(2, 3)\n",
      "(3, 2)\n",
      "(10,)\n"
     ]
    }
   ],
   "source": [
    "a = np.arange(3)\n",
    "b = np.arange(-3,3).reshape((2,3))\n",
    "c = np.arange(1,7).reshape((2,3))\n",
    "d = np.arange(6).reshape((3,2))\n",
    "e = np.linspace(-1,1,10)\n",
    "print(a)\n",
    "print(b)\n",
    "print(c)\n",
    "print(d)\n",
    "print(e)\n",
    "print(\"==================\")\n",
    "print(a.shape)\n",
    "print(b.shape)\n",
    "print(c.shape)\n",
    "print(d.shape)\n",
    "print(e.shape)\n"
   ]
  },
  {
   "cell_type": "markdown",
   "metadata": {},
   "source": [
    "#### Numpyユニバーサルファンクション\n",
    "- 配列要素内のデータを一括で変換してくれる"
   ]
  },
  {
   "cell_type": "code",
   "execution_count": 142,
   "metadata": {},
   "outputs": [
    {
     "name": "stdout",
     "output_type": "stream",
     "text": [
      "[[3, 2, 1], [0, 1, 2]]\n",
      "[[3 2 1]\n",
      " [0 1 2]]\n"
     ]
    }
   ],
   "source": [
    "# 配列要素の絶対値を返す処理：通常実装\n",
    "li = [[-3,-2,-1],[0,1,2]]\n",
    "new = []\n",
    "for i, j in enumerate(li):\n",
    "    new.append([])\n",
    "    for k in j:\n",
    "        new[i].append(abs(k))\n",
    "print(new)\n",
    "\n",
    "# NumPyを用いた実装\n",
    "numpy_new = np.abs(b)\n",
    "print(numpy_new)"
   ]
  },
  {
   "cell_type": "code",
   "execution_count": 157,
   "metadata": {},
   "outputs": [
    {
     "name": "stdout",
     "output_type": "stream",
     "text": [
      "[-1.         -0.77777778 -0.55555556 -0.33333333 -0.11111111  0.11111111\n",
      "  0.33333333  0.55555556  0.77777778  1.        ]\n",
      "sin関数の実行\n",
      "[-0.84147098 -0.70169788 -0.52741539 -0.3271947  -0.11088263  0.11088263\n",
      "  0.3271947   0.52741539  0.70169788  0.84147098]\n",
      "cos関数の実行\n",
      "[0.54030231 0.71247462 0.84960756 0.94495695 0.99383351 0.99383351\n",
      " 0.94495695 0.84960756 0.71247462 0.54030231]\n",
      "======================\n",
      "[      -inf 0.         0.69314718]\n",
      "#########\n",
      "[[0.         0.30103    0.47712125]\n",
      " [0.60205999 0.69897    0.77815125]]\n",
      "#########\n",
      "[1.         2.71828183 7.3890561 ]\n"
     ]
    },
    {
     "name": "stderr",
     "output_type": "stream",
     "text": [
      "/var/folders/17/mtb1r9zn3xq7qsb6zy36_1b40000gn/T/ipykernel_72153/2963882507.py:9: RuntimeWarning: divide by zero encountered in log\n",
      "  print(np.log(a))\n"
     ]
    }
   ],
   "source": [
    "print(e)\n",
    "print(\"sin関数の実行\") # 正弦\n",
    "print(np.sin(e))\n",
    "print(\"cos関数の実行\") # 余弦\n",
    "print(np.cos(e))\n",
    "\n",
    "print(\"======================\")\n",
    "# -infと警告が発生　-infはマイナス無限大を意味\n",
    "print(np.log(a))\n",
    "print(\"#########\")\n",
    "print(np.log10(c)) \n",
    "print(\"#########\")\n",
    "print(np.exp(a)) # eのx乗を表現\n",
    "\n",
    "\n"
   ]
  },
  {
   "cell_type": "code",
   "execution_count": 165,
   "metadata": {},
   "outputs": [
    {
     "name": "stdout",
     "output_type": "stream",
     "text": [
      "[0 1 2]\n",
      "[10 11 12]\n",
      "############\n",
      "[0 1 2]\n",
      "[[-3 -2 -1]\n",
      " [ 0  1  2]]\n",
      "[[-3 -1  1]\n",
      " [ 0  2  4]]\n",
      "############\n",
      "[0 1 2]\n",
      "[[0]\n",
      " [1]\n",
      " [2]]\n",
      "[[0 1 2]\n",
      " [1 2 3]\n",
      " [2 3 4]]\n"
     ]
    }
   ],
   "source": [
    "# ブロードキャスト\n",
    "a2 = a + 10\n",
    "print(a)\n",
    "print(a2)\n",
    "print(\"############\")\n",
    "print(a)\n",
    "print(b)\n",
    "a3 = a + b\n",
    "print(a3)\n",
    "print(\"############\")\n",
    "ax = a[:, np.newaxis]\n",
    "print(a)\n",
    "print(ax)\n",
    "a4 = a + ax\n",
    "print(a4)"
   ]
  },
  {
   "cell_type": "code",
   "execution_count": 171,
   "metadata": {},
   "outputs": [
    {
     "name": "stdout",
     "output_type": "stream",
     "text": [
      "[[1 2 3]\n",
      " [4 5 6]]\n",
      "3.5\n",
      "[[-2.5 -1.5 -0.5]\n",
      " [ 0.5  1.5  2.5]]\n",
      "##################\n",
      "[[-3 -2 -1]\n",
      " [ 0  1  2]]\n",
      "[[-6 -4 -2]\n",
      " [ 0  2  4]]\n",
      "[[-27  -8  -1]\n",
      " [  0   1   8]]\n"
     ]
    }
   ],
   "source": [
    "print(c)\n",
    "cx= np.mean(c)\n",
    "print(cx)\n",
    "c1 = c - cx\n",
    "print(c1)\n",
    "print(\"##################\")\n",
    "print(b)\n",
    "print(b*2)\n",
    "print(b**3)"
   ]
  },
  {
   "cell_type": "code",
   "execution_count": 179,
   "metadata": {},
   "outputs": [
    {
     "name": "stdout",
     "output_type": "stream",
     "text": [
      "[0 1 2]\n",
      "[[-3 -2 -1]\n",
      " [ 0  1  2]]\n",
      "[[1 2 3]\n",
      " [4 5 6]]\n",
      "##############\n",
      "[[-3 -3 -3]\n",
      " [ 0  0  0]]\n",
      "##############\n",
      "[[ 0 -2 -2]\n",
      " [ 0  1  4]]\n",
      "##############\n",
      "[[0.         0.5        0.66666667]\n",
      " [0.         0.2        0.33333333]]\n",
      "[[inf 2.  1.5]\n",
      " [inf 5.  3. ]]\n",
      "infを出さないようにするために微妙な数値を足すという小技があります\n",
      "[[1.00000000e+06 1.99999800e+00 1.49999925e+00]\n",
      " [4.00000000e+06 4.99999500e+00 2.99999850e+00]]\n"
     ]
    },
    {
     "name": "stderr",
     "output_type": "stream",
     "text": [
      "/var/folders/17/mtb1r9zn3xq7qsb6zy36_1b40000gn/T/ipykernel_72153/4233592555.py:11: RuntimeWarning: divide by zero encountered in divide\n",
      "  print(c / a)\n"
     ]
    }
   ],
   "source": [
    "# 形状の異なる要素同士の計算\n",
    "print(a)\n",
    "print(b)\n",
    "print(c)\n",
    "print(\"##############\")\n",
    "print(b -a)\n",
    "print(\"##############\")\n",
    "print(a*b)\n",
    "print(\"##############\")\n",
    "print(a / c)\n",
    "print(c / a)\n",
    "print(\"infを出さないようにするために微妙な数値を足すという小技があります\")\n",
    "print(c / (a + 1e-6))\n",
    "\n"
   ]
  },
  {
   "cell_type": "code",
   "execution_count": 186,
   "metadata": {},
   "outputs": [
    {
     "name": "stdout",
     "output_type": "stream",
     "text": [
      "[0 1 2]\n",
      "[[-3 -2 -1]\n",
      " [ 0  1  2]]\n",
      "#############\n",
      "[-4  5]\n",
      "[-4  5]\n",
      "#####################\n",
      "[[-3 -2 -1]\n",
      " [ 0  1  2]]\n",
      "[[0 1]\n",
      " [2 3]\n",
      " [4 5]]\n",
      "[[ -8 -14]\n",
      " [ 10  13]]\n",
      "[[  0   1   2]\n",
      " [ -6  -1   4]\n",
      " [-12  -3   6]]\n"
     ]
    }
   ],
   "source": [
    "# 配列の掛け算\n",
    "print(a)\n",
    "print(b)\n",
    "print(\"#############\")\n",
    "x1 = np.dot(b, a)\n",
    "x2 = b @ a # ver3.5以降はこちらも利用可能\n",
    "print(x1)\n",
    "print(x2)\n",
    "\n",
    "# 配列の掛け算は行列の形状が大切、行列の形式が不敵だった場合は、ValueErrorが発生\n",
    "print(\"#####################\")\n",
    "print(b)\n",
    "print(d)\n",
    "print(b @ d)\n",
    "print(d @ b)"
   ]
  },
  {
   "cell_type": "code",
   "execution_count": 202,
   "metadata": {},
   "outputs": [
    {
     "name": "stdout",
     "output_type": "stream",
     "text": [
      "[0 1 2]\n",
      "[[-3 -2 -1]\n",
      " [ 0  1  2]]\n",
      "[False False  True]\n",
      "[[False False False]\n",
      " [False  True  True]]\n",
      "trueの数をカウントします:2\n",
      "np.sumでも同様の結果が得られます:2\n",
      "np.anyでTrueの存在を確認しますTrue\n",
      "np.allで全ての要素がTrueかを確認:False\n",
      "[1 2]\n",
      "配列同士の比較\n",
      "[0 1 2]\n",
      "[[-3 -2 -1]\n",
      " [ 0  1  2]]\n",
      "[[1 2 3]\n",
      " [4 5 6]]\n",
      "[[False False False]\n",
      " [False False False]]\n",
      "[[False False False]\n",
      " [ True  True  True]]\n",
      "#################\n",
      "[[False False False]\n",
      " [ True  True  True]]\n",
      "[0 1 2]\n"
     ]
    }
   ],
   "source": [
    "# 真偽値\n",
    "print(a)\n",
    "print(b)\n",
    "x1 = a > 1 # 配列の各要素についてTrue, Falseを判定して、格納した配列を作成\n",
    "x2 = b > 0\n",
    "print(x1)\n",
    "print(x2)\n",
    "# True: 1, False:0なので、0でない数をカウントすればOK\n",
    "print(f\"trueの数をカウントします:{np.count_nonzero(x2)}\")\n",
    "print(f\"np.sumでも同様の結果が得られます:{np.sum(x2)}\")\n",
    "\n",
    "print(f\"np.anyでTrueの存在を確認します{np.any(x2)}\")\n",
    "print(f\"np.allで全ての要素がTrueかを確認:{np.all(x2)}\")\n",
    "\n",
    "# 新規配列を作成\n",
    "new_b = b[b>0] # 0以上の要素だけを抽出して新規配列作成\n",
    "print(new_b)\n",
    "print(\"配列同士の比較\")\n",
    "print(a)\n",
    "print(b)\n",
    "print(c)\n",
    "print(b == c) \n",
    "print(a == b) # 形状が異なる場合はブロードキャストされて形状を揃えて実行される\n",
    "print(\"#################\")\n",
    "print((b == c)| (a == b))\n",
    "new_array = b[(b==c)|(a==b)]\n",
    "print(new_array)\n"
   ]
  },
  {
   "cell_type": "code",
   "execution_count": 205,
   "metadata": {},
   "outputs": [
    {
     "name": "stdout",
     "output_type": "stream",
     "text": [
      "[[-3 -2 -1]\n",
      " [ 0  1  2]]\n",
      "[[1 2 3]\n",
      " [4 5 6]]\n",
      "np.allcloseは要素の判定ではなく誤差の範囲内の判定化を確認しています::False\n",
      "誤差を指定すると結果が変わります:True\n"
     ]
    }
   ],
   "source": [
    "print(b)\n",
    "print(c)\n",
    "x = np.allclose(b, c)\n",
    "print(f\"np.allcloseは要素の判定ではなく誤差の範囲内の判定化を確認しています::{x}\")\n",
    "x2 = np.allclose(b, c, atol=10.0)\n",
    "print(f\"誤差を指定すると結果が変わります:{x2}\")"
   ]
  },
  {
   "cell_type": "markdown",
   "metadata": {},
   "source": [
    "NumPyには、配列用の `ndarray` と行列用の `matrix` があります。\n",
    "\n",
    "### 配列用の `ndarray`\n",
    "\n",
    "```python\n",
    "import numpy as np\n",
    "\n",
    "a = np.array([[1, 2], [3, 4]])\n",
    "print(type(a))  # 出力: <class 'numpy.ndarray'>\n",
    "```\n",
    "### 行列用の`matrix`\n",
    "```python\n",
    "b = np.matrix([[1, 2], [3, 4]])\n",
    "print(type(b))  # 出力: <class 'numpy.matrix'>\n",
    "```\n",
    "\n",
    "### 違い\n",
    "- どちらも同じ形状だが、`matrix`は行列として定義される\n",
    "    - ndarray a*aは要素ごとの積\n",
    "    - matrix b*bは行列の積"
   ]
  },
  {
   "cell_type": "markdown",
   "metadata": {},
   "source": []
  },
  {
   "cell_type": "code",
   "execution_count": 1,
   "metadata": {},
   "outputs": [
    {
     "name": "stdout",
     "output_type": "stream",
     "text": [
      "[[ 1  4]\n",
      " [ 9 16]]\n",
      "[[ 7 10]\n",
      " [15 22]]\n"
     ]
    }
   ],
   "source": [
    "# ndarrayとmatrix\n",
    "import numpy as np\n",
    "\n",
    "a = np.array([[1, 2], [3, 4]])\n",
    "result_ndarray = a * a\n",
    "print(result_ndarray)  # 出力: [[ 1  4]\n",
    "                        #      [ 9 16]]\n",
    "\n",
    "b = np.matrix([[1, 2], [3, 4]])\n",
    "result_matrix = b * b\n",
    "print(result_matrix)  # 出力: [[ 7 10]\n",
    "                       #      [15 22]]\n"
   ]
  },
  {
   "cell_type": "markdown",
   "metadata": {},
   "source": [
    "### 次元\n",
    "- 1次元\n",
    "    - [0]\n",
    "- 2次元\n",
    "    - [[0]]\n",
    "    - [[0], [1], [2]]\n",
    "- 3次元\n",
    "    - [[[0]]]\n",
    "    - [[[0,1,2],\n",
    "                 [3,4,5]],\n",
    "                 [[6,7,8],\n",
    "                  [9,10,11]]]"
   ]
  },
  {
   "cell_type": "code",
   "execution_count": 5,
   "metadata": {},
   "outputs": [
    {
     "data": {
      "text/plain": [
       "(2, 2, 3)"
      ]
     },
     "metadata": {},
     "output_type": "display_data"
    },
    {
     "data": {
      "text/plain": [
       "array([[[ 0,  1,  2],\n",
       "        [ 3,  4,  5]],\n",
       "\n",
       "       [[ 6,  7,  8],\n",
       "        [ 9, 10, 11]]])"
      ]
     },
     "execution_count": 5,
     "metadata": {},
     "output_type": "execute_result"
    }
   ],
   "source": [
    "arr = np.array([[[0,1,2],\n",
    "                 [3,4,5]],\n",
    "                 [[6,7,8],\n",
    "                  [9,10,11]]])\n",
    "display(arr.shape)\n",
    "arr\n"
   ]
  },
  {
   "cell_type": "code",
   "execution_count": 8,
   "metadata": {},
   "outputs": [
    {
     "name": "stdout",
     "output_type": "stream",
     "text": [
      "[2 2]\n",
      "4\n",
      "[12 16]\n"
     ]
    }
   ],
   "source": [
    "# dotの取り方 ベクトルの内積を取るためのメソッド\n",
    "a = np.array([1, 1])\n",
    "\n",
    "b = np.array([2, 2])\n",
    "\n",
    "c = np.array([[3, 3], \n",
    "              [4, 4]])\n",
    "\n",
    "d = np.array([[5, 5], \n",
    "              [6, 6], \n",
    "              [7, 7]])\n",
    "\n",
    "print(a * b)\n",
    "print(np.dot(a, b))\n",
    "print(np.dot(c, b))"
   ]
  },
  {
   "cell_type": "code",
   "execution_count": 10,
   "metadata": {},
   "outputs": [
    {
     "data": {
      "text/html": [
       "<div>\n",
       "<style scoped>\n",
       "    .dataframe tbody tr th:only-of-type {\n",
       "        vertical-align: middle;\n",
       "    }\n",
       "\n",
       "    .dataframe tbody tr th {\n",
       "        vertical-align: top;\n",
       "    }\n",
       "\n",
       "    .dataframe thead th {\n",
       "        text-align: right;\n",
       "    }\n",
       "</style>\n",
       "<table border=\"1\" class=\"dataframe\">\n",
       "  <thead>\n",
       "    <tr style=\"text-align: right;\">\n",
       "      <th></th>\n",
       "      <th>A列</th>\n",
       "      <th>B列</th>\n",
       "      <th>C列</th>\n",
       "    </tr>\n",
       "  </thead>\n",
       "  <tbody>\n",
       "    <tr>\n",
       "      <th>1行</th>\n",
       "      <td>0</td>\n",
       "      <td>1.0</td>\n",
       "      <td>1.0</td>\n",
       "    </tr>\n",
       "    <tr>\n",
       "      <th>2行</th>\n",
       "      <td>2</td>\n",
       "      <td>3.0</td>\n",
       "      <td>5.0</td>\n",
       "    </tr>\n",
       "    <tr>\n",
       "      <th>3行</th>\n",
       "      <td>4</td>\n",
       "      <td>NaN</td>\n",
       "      <td>NaN</td>\n",
       "    </tr>\n",
       "  </tbody>\n",
       "</table>\n",
       "</div>"
      ],
      "text/plain": [
       "    A列   B列   C列\n",
       "1行   0  1.0  1.0\n",
       "2行   2  3.0  5.0\n",
       "3行   4  NaN  NaN"
      ]
     },
     "execution_count": 10,
     "metadata": {},
     "output_type": "execute_result"
    }
   ],
   "source": [
    "import pandas as pd\n",
    "\n",
    "df = pd.DataFrame(\n",
    "    [[0, 1], \n",
    "    [2, 3], \n",
    "    [4, np.NaN]], \n",
    "    columns=['A列', 'B列'], \n",
    "    index=['1行', '2行', '3行'])\n",
    "\n",
    "# NaNの値は計算できないので、新規列にもNaNが反映されている\n",
    "df.loc[:, 'C列'] = df.loc[:, 'A列'] + df.loc[:, 'B列']\n",
    "df"
   ]
  },
  {
   "cell_type": "code",
   "execution_count": 11,
   "metadata": {},
   "outputs": [
    {
     "data": {
      "text/plain": [
       "1行    0\n",
       "2行    2\n",
       "3行    4\n",
       "Name: A列, dtype: int64"
      ]
     },
     "execution_count": 11,
     "metadata": {},
     "output_type": "execute_result"
    }
   ],
   "source": [
    "df.loc[:, 'A列']"
   ]
  },
  {
   "cell_type": "code",
   "execution_count": 20,
   "metadata": {},
   "outputs": [
    {
     "name": "stderr",
     "output_type": "stream",
     "text": [
      "/var/folders/17/mtb1r9zn3xq7qsb6zy36_1b40000gn/T/ipykernel_63502/1340503960.py:7: FutureWarning: 'M' is deprecated and will be removed in a future version, please use 'ME' instead.\n",
      "  df.groupby(pd.Grouper(freq='M')).sum()\n",
      "/var/folders/17/mtb1r9zn3xq7qsb6zy36_1b40000gn/T/ipykernel_63502/1340503960.py:9: FutureWarning: 'M' is deprecated and will be removed in a future version, please use 'ME' instead.\n",
      "  df.resample('M').sum()\n"
     ]
    },
    {
     "data": {
      "text/html": [
       "<div>\n",
       "<style scoped>\n",
       "    .dataframe tbody tr th:only-of-type {\n",
       "        vertical-align: middle;\n",
       "    }\n",
       "\n",
       "    .dataframe tbody tr th {\n",
       "        vertical-align: top;\n",
       "    }\n",
       "\n",
       "    .dataframe thead th {\n",
       "        text-align: right;\n",
       "    }\n",
       "</style>\n",
       "<table border=\"1\" class=\"dataframe\">\n",
       "  <thead>\n",
       "    <tr style=\"text-align: right;\">\n",
       "      <th></th>\n",
       "      <th>売上</th>\n",
       "    </tr>\n",
       "  </thead>\n",
       "  <tbody>\n",
       "    <tr>\n",
       "      <th>2023-01-31</th>\n",
       "      <td>18272</td>\n",
       "    </tr>\n",
       "    <tr>\n",
       "      <th>2023-02-28</th>\n",
       "      <td>16464</td>\n",
       "    </tr>\n",
       "    <tr>\n",
       "      <th>2023-03-31</th>\n",
       "      <td>17843</td>\n",
       "    </tr>\n",
       "    <tr>\n",
       "      <th>2023-04-30</th>\n",
       "      <td>19153</td>\n",
       "    </tr>\n",
       "    <tr>\n",
       "      <th>2023-05-31</th>\n",
       "      <td>17472</td>\n",
       "    </tr>\n",
       "    <tr>\n",
       "      <th>2023-06-30</th>\n",
       "      <td>17369</td>\n",
       "    </tr>\n",
       "    <tr>\n",
       "      <th>2023-07-31</th>\n",
       "      <td>16309</td>\n",
       "    </tr>\n",
       "    <tr>\n",
       "      <th>2023-08-31</th>\n",
       "      <td>14763</td>\n",
       "    </tr>\n",
       "    <tr>\n",
       "      <th>2023-09-30</th>\n",
       "      <td>15633</td>\n",
       "    </tr>\n",
       "    <tr>\n",
       "      <th>2023-10-31</th>\n",
       "      <td>19299</td>\n",
       "    </tr>\n",
       "    <tr>\n",
       "      <th>2023-11-30</th>\n",
       "      <td>16415</td>\n",
       "    </tr>\n",
       "    <tr>\n",
       "      <th>2023-12-31</th>\n",
       "      <td>16314</td>\n",
       "    </tr>\n",
       "  </tbody>\n",
       "</table>\n",
       "</div>"
      ],
      "text/plain": [
       "               売上\n",
       "2023-01-31  18272\n",
       "2023-02-28  16464\n",
       "2023-03-31  17843\n",
       "2023-04-30  19153\n",
       "2023-05-31  17472\n",
       "2023-06-30  17369\n",
       "2023-07-31  16309\n",
       "2023-08-31  14763\n",
       "2023-09-30  15633\n",
       "2023-10-31  19299\n",
       "2023-11-30  16415\n",
       "2023-12-31  16314"
      ]
     },
     "execution_count": 20,
     "metadata": {},
     "output_type": "execute_result"
    }
   ],
   "source": [
    "df = pd.DataFrame(\n",
    "    np.random.randint(100, 1000, 365),\n",
    "    index=pd.date_range('2023-01-01', periods=365),\n",
    "    columns=['売上'])\n",
    "\n",
    "# 月単位でデータフレームを分割→sum関数を適用→各月のsumの結果を結合して1つのデータフレームへ\n",
    "df.groupby(pd.Grouper(freq='M')).sum()\n",
    "# resampleは上記と同じことができる\n",
    "df.resample('M').sum()\n"
   ]
  },
  {
   "cell_type": "code",
   "execution_count": 21,
   "metadata": {},
   "outputs": [
    {
     "data": {
      "text/plain": [
       "(-1.3099999528070945,\n",
       " 1.1099990089490581,\n",
       " -1.0999990089472786,\n",
       " 1.0999999528070132)"
      ]
     },
     "execution_count": 21,
     "metadata": {},
     "output_type": "execute_result"
    },
    {
     "data": {
      "image/png": "[encoded data removed]",
      "text/plain": [
       "<Figure size 640x480 with 1 Axes>"
      ]
     },
     "metadata": {},
     "output_type": "display_data"
    }
   ],
   "source": [
    "import matplotlib.pyplot as plt\n",
    "# グラフのスタイルを決める\n",
    "import matplotlib.style\n",
    "\n",
    "labels = ['A', 'B', 'C']\n",
    "x = [6, 3, 1]\n",
    "explode = [0, 0.2, 0]\n",
    "fig, ax = plt.subplots()\n",
    "ax.pie(x, \n",
    "       labels=labels, \n",
    "       startangle=90, # 3時の位置から90度回転\n",
    "       counterclock=False, # 本来は反時計回りだが、Falseなので時計回り\n",
    "       autopct='%1.1f%%', \n",
    "       explode=explode)\n",
    "ax.axis('equal')"
   ]
  },
  {
   "cell_type": "code",
   "execution_count": null,
   "metadata": {},
   "outputs": [],
   "source": []
  }
 ],
 "metadata": {
  "kernelspec": {
   "display_name": "Python 3 (ipykernel)",
   "language": "python",
   "name": "python3"
  },
  "language_info": {
   "codemirror_mode": {
    "name": "ipython",
    "version": 3
   },
   "file_extension": ".py",
   "mimetype": "text/x-python",
   "name": "python",
   "nbconvert_exporter": "python",
   "pygments_lexer": "ipython3",
   "version": "3.11.0"
  }
 },
 "nbformat": 4,
 "nbformat_minor": 4
}
