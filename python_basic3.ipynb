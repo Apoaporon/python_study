{
 "cells": [
  {
   "cell_type": "markdown",
   "metadata": {},
   "source": [
    "### ファイルの入出力\n",
    "- モードの指定\n",
    "    - r:読み込み専用（デフォルト）\n",
    "    - r+:読み書き両用\n",
    "    - w:新規書き込み\n",
    "    - a:追加書き込み\n",
    "    - b:バイナリモード(単体で利用不可　読み込みたい時は rbなどで利用)\n"
   ]
  },
  {
   "cell_type": "code",
   "execution_count": 4,
   "metadata": {},
   "outputs": [],
   "source": [
    "fp = open(\"file/sample.txt\", mode=\"r\")"
   ]
  },
  {
   "cell_type": "markdown",
   "metadata": {},
   "source": [
    "- 読み込み方\n",
    "    - read():文字列全体読み込み 1文字ずつ処理\n",
    "    - readline:1行だけ読み込み　1文字ずつ処理\n",
    "    - readlines: 全行読み込み 1行ずつ処理\n",
    "    - list(fp): readlinesと同値"
   ]
  },
  {
   "cell_type": "code",
   "execution_count": 13,
   "metadata": {},
   "outputs": [
    {
     "name": "stdout",
     "output_type": "stream",
     "text": [
      "now text is === こ\n",
      "now text is === ん\n",
      "now text is === に\n",
      "now text is === ち\n",
      "now text is === は\n",
      "now text is === \n",
      "\n",
      "now text is === 私\n",
      "now text is === は\n",
      "now text is === \n",
      "\n",
      "now text is === 犬\n",
      "now text is === で\n",
      "now text is === す\n",
      "now text is === 。\n",
      "s2 text is === こ\n",
      "s2 text is === ん\n",
      "s2 text is === に\n",
      "s2 text is === ち\n",
      "s2 text is === は\n",
      "s2 text is === \n",
      "\n",
      "1行しか読み込まれていません\n",
      "s3 text is === こんにちは\n",
      "\n",
      "s3 text is === 私は\n",
      "\n",
      "s3 text is === 犬です。\n",
      "1行ずつ読み込まれています\n",
      "s4 text is === こんにちは\n",
      "\n",
      "s4 text is === 私は\n",
      "\n",
      "s4 text is === 犬です。\n",
      "1行ずつ読み込まれています\n"
     ]
    }
   ],
   "source": [
    "fp = open(\"file/sample.txt\", mode=\"r\")\n",
    "for s in fp.read():\n",
    "    print(f\"now text is === {s}\")\n",
    "fp.close()\n",
    "\n",
    "fp = open(\"file/sample.txt\", mode=\"r\")\n",
    "for s2 in fp.readline():\n",
    "    print(f\"s2 text is === {s2}\")\n",
    "fp.close()\n",
    "print(\"1行しか読み込まれていません\")\n",
    "\n",
    "fp = open(\"file/sample.txt\", mode=\"r\")\n",
    "for s3 in fp.readlines():\n",
    "    print(f\"s3 text is === {s3}\")\n",
    "fp.close()\n",
    "print(\"1行ずつ読み込まれています\")\n",
    "\n",
    "fp = open(\"file/sample.txt\", mode=\"r\")\n",
    "for s4 in list(fp):\n",
    "    print(f\"s4 text is === {s4}\")\n",
    "fp.close()\n",
    "print(\"1行ずつ読み込まれています\")"
   ]
  },
  {
   "cell_type": "markdown",
   "metadata": {},
   "source": [
    "### テキスト書き込み"
   ]
  },
  {
   "cell_type": "code",
   "execution_count": 21,
   "metadata": {},
   "outputs": [],
   "source": [
    "# 既存ファイルに書き込むので mode aを指定\n",
    "fp = open(\"file/sample.txt\", mode=\"a\")\n",
    "fp.write(\"これが追加したテキストになります\")\n",
    "fp.close()\n",
    "\n"
   ]
  },
  {
   "cell_type": "code",
   "execution_count": 22,
   "metadata": {},
   "outputs": [
    {
     "name": "stdout",
     "output_type": "stream",
     "text": [
      "こんにちは\n",
      "\n",
      "私は\n",
      "\n",
      "犬です。\n",
      "\n",
      "これが追加したテキストになります¥nこれが追加したテキストになります\n"
     ]
    }
   ],
   "source": [
    "fp = open(\"file/sample.txt\", mode=\"r\")\n",
    "for text in fp.readlines():\n",
    "    print(text)\n",
    "fp.close()"
   ]
  },
  {
   "cell_type": "code",
   "execution_count": null,
   "metadata": {},
   "outputs": [],
   "source": []
  }
 ],
 "metadata": {
  "kernelspec": {
   "display_name": ".studyenv",
   "language": "python",
   "name": "python3"
  },
  "language_info": {
   "codemirror_mode": {
    "name": "ipython",
    "version": 3
   },
   "file_extension": ".py",
   "mimetype": "text/x-python",
   "name": "python",
   "nbconvert_exporter": "python",
   "pygments_lexer": "ipython3",
   "version": "3.11.0"
  }
 },
 "nbformat": 4,
 "nbformat_minor": 2
}
