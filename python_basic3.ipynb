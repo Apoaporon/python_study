{
 "cells": [
  {
   "cell_type": "markdown",
   "metadata": {},
   "source": [
    "### ファイルの入出力\n",
    "- モードの指定\n",
    "    - r:読み込み専用（デフォルト）\n",
    "    - r+:読み書き両用\n",
    "    - w:新規書き込み\n",
    "    - a:追加書き込み\n",
    "    - b:バイナリモード(単体で利用不可　読み込みたい時は rbなどで利用)\n"
   ]
  },
  {
   "cell_type": "code",
   "execution_count": 4,
   "metadata": {},
   "outputs": [],
   "source": [
    "fp = open(\"file/sample.txt\", mode=\"r\")"
   ]
  },
  {
   "cell_type": "markdown",
   "metadata": {},
   "source": [
    "- 読み込み方\n",
    "    - read():文字列全体読み込み 1文字ずつ処理\n",
    "    - readline:1行だけ読み込み　1文字ずつ処理\n",
    "    - readlines: 全行読み込み 1行ずつ処理\n",
    "    - list(fp): readlinesと同値"
   ]
  },
  {
   "cell_type": "code",
   "execution_count": 13,
   "metadata": {},
   "outputs": [
    {
     "name": "stdout",
     "output_type": "stream",
     "text": [
      "now text is === こ\n",
      "now text is === ん\n",
      "now text is === に\n",
      "now text is === ち\n",
      "now text is === は\n",
      "now text is === \n",
      "\n",
      "now text is === 私\n",
      "now text is === は\n",
      "now text is === \n",
      "\n",
      "now text is === 犬\n",
      "now text is === で\n",
      "now text is === す\n",
      "now text is === 。\n",
      "s2 text is === こ\n",
      "s2 text is === ん\n",
      "s2 text is === に\n",
      "s2 text is === ち\n",
      "s2 text is === は\n",
      "s2 text is === \n",
      "\n",
      "1行しか読み込まれていません\n",
      "s3 text is === こんにちは\n",
      "\n",
      "s3 text is === 私は\n",
      "\n",
      "s3 text is === 犬です。\n",
      "1行ずつ読み込まれています\n",
      "s4 text is === こんにちは\n",
      "\n",
      "s4 text is === 私は\n",
      "\n",
      "s4 text is === 犬です。\n",
      "1行ずつ読み込まれています\n"
     ]
    }
   ],
   "source": [
    "fp = open(\"file/sample.txt\", mode=\"r\")\n",
    "for s in fp.read():\n",
    "    print(f\"now text is === {s}\")\n",
    "fp.close()\n",
    "\n",
    "fp = open(\"file/sample.txt\", mode=\"r\")\n",
    "for s2 in fp.readline():\n",
    "    print(f\"s2 text is === {s2}\")\n",
    "fp.close()\n",
    "print(\"1行しか読み込まれていません\")\n",
    "\n",
    "fp = open(\"file/sample.txt\", mode=\"r\")\n",
    "for s3 in fp.readlines():\n",
    "    print(f\"s3 text is === {s3}\")\n",
    "fp.close()\n",
    "print(\"1行ずつ読み込まれています\")\n",
    "\n",
    "fp = open(\"file/sample.txt\", mode=\"r\")\n",
    "for s4 in list(fp):\n",
    "    print(f\"s4 text is === {s4}\")\n",
    "fp.close()\n",
    "print(\"1行ずつ読み込まれています\")"
   ]
  },
  {
   "cell_type": "markdown",
   "metadata": {},
   "source": [
    "### テキスト書き込み"
   ]
  },
  {
   "cell_type": "code",
   "execution_count": 21,
   "metadata": {},
   "outputs": [],
   "source": [
    "# 既存ファイルに書き込むので mode aを指定\n",
    "fp = open(\"file/sample.txt\", mode=\"a\")\n",
    "fp.write(\"これが追加したテキストになります\")\n",
    "fp.close()\n",
    "\n"
   ]
  },
  {
   "cell_type": "code",
   "execution_count": 23,
   "metadata": {},
   "outputs": [
    {
     "name": "stdout",
     "output_type": "stream",
     "text": [
      "こんにちは\n",
      "\n",
      "私は\n",
      "\n",
      "犬です。\n",
      "\n"
     ]
    }
   ],
   "source": [
    "# withを利用することでcloseが不要になる\n",
    "with open(\"file/sample.txt\") as f:\n",
    "    for text in f.readlines():\n",
    "        print(text)"
   ]
  },
  {
   "cell_type": "markdown",
   "metadata": {},
   "source": [
    "### jsonファイルの読み書き\n",
    "- ファイルとのやりとり\n",
    "    - dump(): json -> file\n",
    "    - load(): file -> json\n",
    "- 変数と変数のやりとり\n",
    "    - dumps(): list -> str\n",
    "    - loads(): str -> list"
   ]
  },
  {
   "cell_type": "code",
   "execution_count": 26,
   "metadata": {},
   "outputs": [
    {
     "name": "stdout",
     "output_type": "stream",
     "text": [
      "<class 'list'> ##### [{'id1': 1}, {'id2': 2}]\n",
      "<class 'str'> ##### [{\"id1\": 1}, {\"id2\": 2}]\n",
      "<class 'list'> ##### [{'id1': 1}, {'id2': 2}]\n"
     ]
    }
   ],
   "source": [
    "import json\n",
    "\n",
    "data = [{\"id1\":1}, {\"id2\":2}]\n",
    "fp = open(\"file/sample.json\", \"w\")\n",
    "json.dump(data, fp) # 書き込みたいデータ, fileの順\n",
    "fp.close()\n",
    "\n",
    "fp2 = open(\"file/sample.json\", \"r\")\n",
    "json_data = json.load(fp2)\n",
    "print(type(json_data), \"#####\", json_data)\n",
    "json_item = json.dumps(json_data)\n",
    "print(type(json_item), \"#####\", json_item)\n",
    "json_data2 = json.loads(json_item)\n",
    "print(type(json_data2), \"#####\", json_data2)\n"
   ]
  },
  {
   "cell_type": "markdown",
   "metadata": {},
   "source": [
    "### 例外 error\n",
    "- エラー：プログラムで対処できない致命的な例外\n",
    "- 例外：プログラムで対処できる例外\n",
    "\n",
    "- 例外の種類\n",
    "    - SyntaxError: 構文エラー\n",
    "        - a = \"1000' <- SyntaxError\n",
    "    - ValueError: メソッドなどの引数に間違った型の値を渡した場合に起きるエラー\n",
    "        - b = int(\"hogehoge\") <- intに変換するのに値が適切でない\n",
    "    - TypeError: データ型が間違っている時に発生するエラー\n",
    "        - c = 1 + '1' <- int + strは無理\n",
    "    - NameError: 未定義の変数、関数を使用すると発生するエラー\n",
    "    - KeyError: ディクショナリーに存在しないキーを参照しようとすると発生するエラー\n",
    "\n",
    "- raise文\n",
    "    - エラーや例外条件をプログラム内で明示的に引き起こすためのもの\n",
    "    - 例外の型や例外オブジェクトを指定して任意の例外を発生させることができる\n",
    "    - 直前の例外を再度発生させることも可能"
   ]
  },
  {
   "cell_type": "code",
   "execution_count": 27,
   "metadata": {},
   "outputs": [],
   "source": [
    "test_dict = {\"apple\":100, \"orange\":200, \"banana\":300}\n",
    "# test_dictに存在しないキーを指定しているのでエラー\n",
    "# print(dict1[\"hoge\"]) <- KeyError"
   ]
  },
  {
   "cell_type": "code",
   "execution_count": 28,
   "metadata": {},
   "outputs": [
    {
     "name": "stdout",
     "output_type": "stream",
     "text": [
      "ValueErrorが発生したことを告げます\n"
     ]
    }
   ],
   "source": [
    "try:\n",
    "    raise ValueError(\"ValueErrorが発生したことを告げます\")\n",
    "except ValueError as e:\n",
    "    print(e)"
   ]
  },
  {
   "cell_type": "code",
   "execution_count": null,
   "metadata": {},
   "outputs": [],
   "source": []
  }
 ],
 "metadata": {
  "kernelspec": {
   "display_name": ".studyenv",
   "language": "python",
   "name": "python3"
  },
  "language_info": {
   "codemirror_mode": {
    "name": "ipython",
    "version": 3
   },
   "file_extension": ".py",
   "mimetype": "text/x-python",
   "name": "python",
   "nbconvert_exporter": "python",
   "pygments_lexer": "ipython3",
   "version": "3.11.0"
  }
 },
 "nbformat": 4,
 "nbformat_minor": 2
}
