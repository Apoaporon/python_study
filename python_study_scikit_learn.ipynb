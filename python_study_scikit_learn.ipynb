{
 "cells": [
  {
   "cell_type": "markdown",
   "metadata": {},
   "source": [
    "# scikit-learn"
   ]
  },
  {
   "cell_type": "markdown",
   "metadata": {},
   "source": [
    "### 欠損値への対応\n",
    "- 欠損値への対処法\n",
    "    - 欠損値を除去する\n",
    "    - 欠損値を補完する"
   ]
  },
  {
   "cell_type": "code",
   "execution_count": 6,
   "metadata": {},
   "outputs": [
    {
     "data": {
      "text/html": [
       "<div>\n",
       "<style scoped>\n",
       "    .dataframe tbody tr th:only-of-type {\n",
       "        vertical-align: middle;\n",
       "    }\n",
       "\n",
       "    .dataframe tbody tr th {\n",
       "        vertical-align: top;\n",
       "    }\n",
       "\n",
       "    .dataframe thead th {\n",
       "        text-align: right;\n",
       "    }\n",
       "</style>\n",
       "<table border=\"1\" class=\"dataframe\">\n",
       "  <thead>\n",
       "    <tr style=\"text-align: right;\">\n",
       "      <th></th>\n",
       "      <th>A</th>\n",
       "      <th>B</th>\n",
       "      <th>C</th>\n",
       "    </tr>\n",
       "  </thead>\n",
       "  <tbody>\n",
       "    <tr>\n",
       "      <th>0</th>\n",
       "      <td>1.0</td>\n",
       "      <td>6.0</td>\n",
       "      <td>11</td>\n",
       "    </tr>\n",
       "    <tr>\n",
       "      <th>1</th>\n",
       "      <td>NaN</td>\n",
       "      <td>7.0</td>\n",
       "      <td>12</td>\n",
       "    </tr>\n",
       "    <tr>\n",
       "      <th>2</th>\n",
       "      <td>3.0</td>\n",
       "      <td>8.0</td>\n",
       "      <td>13</td>\n",
       "    </tr>\n",
       "    <tr>\n",
       "      <th>3</th>\n",
       "      <td>4.0</td>\n",
       "      <td>NaN</td>\n",
       "      <td>14</td>\n",
       "    </tr>\n",
       "    <tr>\n",
       "      <th>4</th>\n",
       "      <td>5.0</td>\n",
       "      <td>10.0</td>\n",
       "      <td>15</td>\n",
       "    </tr>\n",
       "  </tbody>\n",
       "</table>\n",
       "</div>"
      ],
      "text/plain": [
       "     A     B   C\n",
       "0  1.0   6.0  11\n",
       "1  NaN   7.0  12\n",
       "2  3.0   8.0  13\n",
       "3  4.0   NaN  14\n",
       "4  5.0  10.0  15"
      ]
     },
     "metadata": {},
     "output_type": "display_data"
    },
    {
     "data": {
      "text/html": [
       "<div>\n",
       "<style scoped>\n",
       "    .dataframe tbody tr th:only-of-type {\n",
       "        vertical-align: middle;\n",
       "    }\n",
       "\n",
       "    .dataframe tbody tr th {\n",
       "        vertical-align: top;\n",
       "    }\n",
       "\n",
       "    .dataframe thead th {\n",
       "        text-align: right;\n",
       "    }\n",
       "</style>\n",
       "<table border=\"1\" class=\"dataframe\">\n",
       "  <thead>\n",
       "    <tr style=\"text-align: right;\">\n",
       "      <th></th>\n",
       "      <th>A</th>\n",
       "      <th>B</th>\n",
       "      <th>C</th>\n",
       "    </tr>\n",
       "  </thead>\n",
       "  <tbody>\n",
       "    <tr>\n",
       "      <th>0</th>\n",
       "      <td>False</td>\n",
       "      <td>False</td>\n",
       "      <td>False</td>\n",
       "    </tr>\n",
       "    <tr>\n",
       "      <th>1</th>\n",
       "      <td>True</td>\n",
       "      <td>False</td>\n",
       "      <td>False</td>\n",
       "    </tr>\n",
       "    <tr>\n",
       "      <th>2</th>\n",
       "      <td>False</td>\n",
       "      <td>False</td>\n",
       "      <td>False</td>\n",
       "    </tr>\n",
       "    <tr>\n",
       "      <th>3</th>\n",
       "      <td>False</td>\n",
       "      <td>True</td>\n",
       "      <td>False</td>\n",
       "    </tr>\n",
       "    <tr>\n",
       "      <th>4</th>\n",
       "      <td>False</td>\n",
       "      <td>False</td>\n",
       "      <td>False</td>\n",
       "    </tr>\n",
       "  </tbody>\n",
       "</table>\n",
       "</div>"
      ],
      "text/plain": [
       "       A      B      C\n",
       "0  False  False  False\n",
       "1   True  False  False\n",
       "2  False  False  False\n",
       "3  False   True  False\n",
       "4  False  False  False"
      ]
     },
     "metadata": {},
     "output_type": "display_data"
    },
    {
     "data": {
      "text/html": [
       "<div>\n",
       "<style scoped>\n",
       "    .dataframe tbody tr th:only-of-type {\n",
       "        vertical-align: middle;\n",
       "    }\n",
       "\n",
       "    .dataframe tbody tr th {\n",
       "        vertical-align: top;\n",
       "    }\n",
       "\n",
       "    .dataframe thead th {\n",
       "        text-align: right;\n",
       "    }\n",
       "</style>\n",
       "<table border=\"1\" class=\"dataframe\">\n",
       "  <thead>\n",
       "    <tr style=\"text-align: right;\">\n",
       "      <th></th>\n",
       "      <th>A</th>\n",
       "      <th>B</th>\n",
       "      <th>C</th>\n",
       "    </tr>\n",
       "  </thead>\n",
       "  <tbody>\n",
       "    <tr>\n",
       "      <th>0</th>\n",
       "      <td>1.0</td>\n",
       "      <td>6.0</td>\n",
       "      <td>11</td>\n",
       "    </tr>\n",
       "    <tr>\n",
       "      <th>2</th>\n",
       "      <td>3.0</td>\n",
       "      <td>8.0</td>\n",
       "      <td>13</td>\n",
       "    </tr>\n",
       "    <tr>\n",
       "      <th>4</th>\n",
       "      <td>5.0</td>\n",
       "      <td>10.0</td>\n",
       "      <td>15</td>\n",
       "    </tr>\n",
       "  </tbody>\n",
       "</table>\n",
       "</div>"
      ],
      "text/plain": [
       "     A     B   C\n",
       "0  1.0   6.0  11\n",
       "2  3.0   8.0  13\n",
       "4  5.0  10.0  15"
      ]
     },
     "metadata": {},
     "output_type": "display_data"
    }
   ],
   "source": [
    "import numpy as np\n",
    "import pandas as pd\n",
    "# サンプルデータフレームをセット\n",
    "df = pd.DataFrame(\n",
    "    {\n",
    "        'A':[1, np.nan, 3,4,5],\n",
    "        'B':[6, 7, 8,np.nan, 10],\n",
    "        'C':[11, 12, 13,14,15]\n",
    "    }\n",
    ")\n",
    "display(df)\n",
    "# 欠損値がどこにあるかを確認\n",
    "display(df.isnull())\n",
    "# 欠損値を除去\n",
    "display(df.dropna())"
   ]
  },
  {
   "cell_type": "code",
   "execution_count": 8,
   "metadata": {},
   "outputs": [
    {
     "data": {
      "text/plain": [
       "array([[ 1.  ,  6.  , 11.  ],\n",
       "       [ 3.25,  7.  , 12.  ],\n",
       "       [ 3.  ,  8.  , 13.  ],\n",
       "       [ 4.  ,  7.75, 14.  ],\n",
       "       [ 5.  , 10.  , 15.  ]])"
      ]
     },
     "execution_count": 8,
     "metadata": {},
     "output_type": "execute_result"
    }
   ],
   "source": [
    "# 欠損値を補完\n",
    "from sklearn.impute import SimpleImputer\n",
    "# 平均値で補完\n",
    "imp = SimpleImputer(strategy='mean') #ここをmedian, most_frequentなどで補完値を変更可能\n",
    "imp.fit(df)\n",
    "# 列の平均値で補完する\n",
    "imp.transform(df)"
   ]
  },
  {
   "cell_type": "markdown",
   "metadata": {},
   "source": [
    "### カテゴリ変数のエンコーディング\n",
    "- カテゴリ変数のエンコーディング\n",
    "    - a->1, b->2, c->3のように変数を数値に変換する処理\n",
    "- One-hot エンコーディング\n",
    "    - 各行の該当する値の列のみに1, それ以外の列に0が入力されるように変換する"
   ]
  },
  {
   "cell_type": "code",
   "execution_count": 10,
   "metadata": {},
   "outputs": [
    {
     "data": {
      "text/html": [
       "<div>\n",
       "<style scoped>\n",
       "    .dataframe tbody tr th:only-of-type {\n",
       "        vertical-align: middle;\n",
       "    }\n",
       "\n",
       "    .dataframe tbody tr th {\n",
       "        vertical-align: top;\n",
       "    }\n",
       "\n",
       "    .dataframe thead th {\n",
       "        text-align: right;\n",
       "    }\n",
       "</style>\n",
       "<table border=\"1\" class=\"dataframe\">\n",
       "  <thead>\n",
       "    <tr style=\"text-align: right;\">\n",
       "      <th></th>\n",
       "      <th>A</th>\n",
       "      <th>B</th>\n",
       "    </tr>\n",
       "  </thead>\n",
       "  <tbody>\n",
       "    <tr>\n",
       "      <th>0</th>\n",
       "      <td>1</td>\n",
       "      <td>a</td>\n",
       "    </tr>\n",
       "    <tr>\n",
       "      <th>1</th>\n",
       "      <td>2</td>\n",
       "      <td>b</td>\n",
       "    </tr>\n",
       "    <tr>\n",
       "      <th>2</th>\n",
       "      <td>3</td>\n",
       "      <td>c</td>\n",
       "    </tr>\n",
       "    <tr>\n",
       "      <th>3</th>\n",
       "      <td>4</td>\n",
       "      <td>b</td>\n",
       "    </tr>\n",
       "    <tr>\n",
       "      <th>4</th>\n",
       "      <td>5</td>\n",
       "      <td>c</td>\n",
       "    </tr>\n",
       "  </tbody>\n",
       "</table>\n",
       "</div>"
      ],
      "text/plain": [
       "   A  B\n",
       "0  1  a\n",
       "1  2  b\n",
       "2  3  c\n",
       "3  4  b\n",
       "4  5  c"
      ]
     },
     "execution_count": 10,
     "metadata": {},
     "output_type": "execute_result"
    }
   ],
   "source": [
    "# カテゴリ変数のエンコーディング\n",
    "df = pd.DataFrame(\n",
    "    {\n",
    "        'A':[1,2,3,4,5],\n",
    "        'B':['a','b','c','b','c']\n",
    "    }\n",
    ")\n",
    "df\n"
   ]
  },
  {
   "cell_type": "code",
   "execution_count": 12,
   "metadata": {},
   "outputs": [
    {
     "data": {
      "text/plain": [
       "array([0, 1, 2, 1, 2])"
      ]
     },
     "metadata": {},
     "output_type": "display_data"
    },
    {
     "data": {
      "text/plain": [
       "array(['a', 'b', 'c'], dtype=object)"
      ]
     },
     "execution_count": 12,
     "metadata": {},
     "output_type": "execute_result"
    }
   ],
   "source": [
    "from sklearn.preprocessing import LabelEncoder\n",
    "# ラベルエンコーダのインスタンスを生成\n",
    "le = LabelEncoder()\n",
    "# ラベルのエンコーディング\n",
    "le.fit(df.loc[:, 'B'])\n",
    "a = le.transform(df.loc[:, 'B'])\n",
    "display(a)\n",
    "# 元の値との対応を確認できる\n",
    "le.classes_"
   ]
  },
  {
   "cell_type": "code",
   "execution_count": 13,
   "metadata": {},
   "outputs": [
    {
     "data": {
      "text/html": [
       "<div>\n",
       "<style scoped>\n",
       "    .dataframe tbody tr th:only-of-type {\n",
       "        vertical-align: middle;\n",
       "    }\n",
       "\n",
       "    .dataframe tbody tr th {\n",
       "        vertical-align: top;\n",
       "    }\n",
       "\n",
       "    .dataframe thead th {\n",
       "        text-align: right;\n",
       "    }\n",
       "</style>\n",
       "<table border=\"1\" class=\"dataframe\">\n",
       "  <thead>\n",
       "    <tr style=\"text-align: right;\">\n",
       "      <th></th>\n",
       "      <th>A</th>\n",
       "      <th>B</th>\n",
       "    </tr>\n",
       "  </thead>\n",
       "  <tbody>\n",
       "    <tr>\n",
       "      <th>0</th>\n",
       "      <td>1</td>\n",
       "      <td>a</td>\n",
       "    </tr>\n",
       "    <tr>\n",
       "      <th>1</th>\n",
       "      <td>2</td>\n",
       "      <td>b</td>\n",
       "    </tr>\n",
       "    <tr>\n",
       "      <th>2</th>\n",
       "      <td>3</td>\n",
       "      <td>c</td>\n",
       "    </tr>\n",
       "    <tr>\n",
       "      <th>3</th>\n",
       "      <td>4</td>\n",
       "      <td>b</td>\n",
       "    </tr>\n",
       "    <tr>\n",
       "      <th>4</th>\n",
       "      <td>5</td>\n",
       "      <td>c</td>\n",
       "    </tr>\n",
       "  </tbody>\n",
       "</table>\n",
       "</div>"
      ],
      "text/plain": [
       "   A  B\n",
       "0  1  a\n",
       "1  2  b\n",
       "2  3  c\n",
       "3  4  b\n",
       "4  5  c"
      ]
     },
     "execution_count": 13,
     "metadata": {},
     "output_type": "execute_result"
    }
   ],
   "source": [
    "df"
   ]
  },
  {
   "cell_type": "code",
   "execution_count": 18,
   "metadata": {},
   "outputs": [
    {
     "data": {
      "text/plain": [
       "array([[1., 0., 0., 1.],\n",
       "       [0., 1., 0., 2.],\n",
       "       [0., 0., 1., 3.],\n",
       "       [0., 1., 0., 4.],\n",
       "       [0., 0., 1., 5.]])"
      ]
     },
     "execution_count": 18,
     "metadata": {},
     "output_type": "execute_result"
    }
   ],
   "source": [
    "# One-hotエンコーディング\n",
    "# sklearnを利用する場合は、OneHotEncoderクラスを利用する\n",
    "# pandasを利用する場合は、get_dummies関数を利用\n",
    "from sklearn.preprocessing import LabelEncoder, OneHotEncoder\n",
    "from sklearn.compose import ColumnTransformer\n",
    "\n",
    "df_one = df.copy()\n",
    "# ラベルエンコーダーのインスタンス化\n",
    "le = LabelEncoder()\n",
    "df_one.loc[:,'B'] = le.fit_transform(df_one.loc[:,'B']) # type: ignore\n",
    "# One-Hotエンコーダのインスタンス化\n",
    "ohe = ColumnTransformer([('OneHotEncoder', OneHotEncoder(), [1])], remainder='passthrough')\n",
    "# One-Hotエンコーディング\n",
    "df_one = ohe.fit_transform(df_one)\n",
    "df_one\n"
   ]
  },
  {
   "cell_type": "markdown",
   "metadata": {},
   "source": [
    "### 特徴量の正規化\n",
    "- 分散正規化\n",
    "    - 特徴量の平均：0, 標準偏差：1となるように特徴量を正規化\n",
    "- 最小最大正規化\n",
    "    - 最小値：0, 最大値：1となるように特徴量を正規化\n"
   ]
  },
  {
   "cell_type": "code",
   "execution_count": 19,
   "metadata": {},
   "outputs": [
    {
     "data": {
      "text/plain": [
       "array([[-1.41421356, -1.22474487],\n",
       "       [-0.70710678, -0.81649658],\n",
       "       [ 0.        ,  0.        ],\n",
       "       [ 0.70710678,  0.40824829],\n",
       "       [ 1.41421356,  1.63299316]])"
      ]
     },
     "execution_count": 19,
     "metadata": {},
     "output_type": "execute_result"
    }
   ],
   "source": [
    "from sklearn.preprocessing import StandardScaler\n",
    "\n",
    "df = pd.DataFrame(\n",
    "    {\n",
    "        'A':[1,2,3,4,5],\n",
    "        'B':[100,200,400,500,800]\n",
    "    }\n",
    ")\n",
    "# 分散正規化のインスタンスを生成\n",
    "stdsc = StandardScaler()\n",
    "# 分散正規化を実行\n",
    "stdsc.fit(df)\n",
    "stdsc.transform(df)\n"
   ]
  },
  {
   "cell_type": "code",
   "execution_count": 20,
   "metadata": {},
   "outputs": [
    {
     "data": {
      "text/plain": [
       "array([[0.        , 0.        ],\n",
       "       [0.25      , 0.14285714],\n",
       "       [0.5       , 0.42857143],\n",
       "       [0.75      , 0.57142857],\n",
       "       [1.        , 1.        ]])"
      ]
     },
     "execution_count": 20,
     "metadata": {},
     "output_type": "execute_result"
    }
   ],
   "source": [
    "from sklearn.preprocessing import MinMaxScaler\n",
    "# 最小最大正規化のインスタンスを生成\n",
    "mmsc = MinMaxScaler()\n",
    "# 最小最大正規化を実行\n",
    "mmsc.fit(df)\n",
    "mmsc.transform(df)"
   ]
  },
  {
   "cell_type": "markdown",
   "metadata": {},
   "source": [
    "### 分類\n",
    "- 教師あり学習に分類されます\n",
    "- 代表的なアルゴリズム\n",
    "    - サポートベクタマシン\n",
    "    - 決定木\n",
    "    - ランダムフォレスト\n",
    "\n",
    "### サンプルデータ\n",
    "- 150枚のあやめの「がく」と「花びら」の長さと幅、花の種類を記録\n",
    "- 説明変数X (numpy配列なので本当はヘッダーはないが、、)\n",
    "    - がくの長さ\n",
    "    - がくの幅\n",
    "    - 花びらの長さ\n",
    "    - 花びらの幅\n",
    "- 目的変数y\n",
    "    - Species:花の種類(0, 1, 2の3種類)\n",
    "        - 0:Setosa\n",
    "        - 1:Versicolor\n",
    "        - 2:Viginica"
   ]
  },
  {
   "cell_type": "code",
   "execution_count": 23,
   "metadata": {},
   "outputs": [
    {
     "name": "stdout",
     "output_type": "stream",
     "text": [
      "X:\n",
      "[[5.1 3.5 1.4 0.2]\n",
      " [4.9 3.  1.4 0.2]\n",
      " [4.7 3.2 1.3 0.2]\n",
      " [4.6 3.1 1.5 0.2]\n",
      " [5.  3.6 1.4 0.2]]\n",
      "y:\n",
      "[0 0 0 0 0]\n"
     ]
    }
   ],
   "source": [
    "# irisデータを用いてお試し実行してみる\n",
    "from sklearn.datasets import load_iris\n",
    "\n",
    "iris = load_iris()\n",
    "X, y = iris.data, iris.target # type: ignore\n",
    "# 確認\n",
    "print('X:')\n",
    "print(X[:5, :])\n",
    "print('y:')\n",
    "print(y[:5])\n"
   ]
  },
  {
   "cell_type": "code",
   "execution_count": 24,
   "metadata": {},
   "outputs": [
    {
     "name": "stdout",
     "output_type": "stream",
     "text": [
      "(105, 4)\n",
      "(45, 4)\n",
      "(105,)\n",
      "(45,)\n"
     ]
    }
   ],
   "source": [
    "from sklearn.model_selection import train_test_split\n",
    "# 学習データとテストデータに分割\n",
    "# test_size 0.3とすることで　train:test = 7:3に分割\n",
    "X_train, X_test, y_train, y_test = train_test_split(\n",
    "    X, y, test_size=0.3, random_state=123\n",
    ")\n",
    "print(X_train.shape)\n",
    "print(X_test.shape)\n",
    "print(y_train.shape)\n",
    "print(y_test.shape)\n"
   ]
  },
  {
   "cell_type": "markdown",
   "metadata": {},
   "source": [
    "### サポートベクタマシン(SVM)\n",
    "- 分類・回帰だけでなく、外れ値検出にも利用できるアルゴリズム\n",
    "- 決定境界：各クラスのデータ間の距離が最も大きくなるようにひいた直線\n",
    "- サポートベクタ：各クラスのデータ\n",
    "- マージン：クラス間のサポートベクタの距離\n"
   ]
  },
  {
   "cell_type": "code",
   "execution_count": 26,
   "metadata": {},
   "outputs": [
    {
     "name": "stdout",
     "output_type": "stream",
     "text": [
      "[[0.68235186 0.05382102]\n",
      " [0.22035987 0.18437181]\n",
      " [0.1759059  0.81209451]\n",
      " [0.923345   0.2765744 ]\n",
      " [0.81975456 0.88989269]\n",
      " [0.51297046 0.2449646 ]\n",
      " [0.8242416  0.21376296]\n",
      " [0.74146705 0.6299402 ]\n",
      " [0.92740726 0.23190819]\n",
      " [0.79912513 0.51816504]\n",
      " [0.23155562 0.16590399]\n",
      " [0.49778897 0.58272464]\n",
      " [0.18433799 0.01489492]\n",
      " [0.47113323 0.72824333]\n",
      " [0.91860049 0.62553401]\n",
      " [0.91712257 0.86469025]\n",
      " [0.21814287 0.86612743]\n",
      " [0.73075194 0.27786529]\n",
      " [0.79704355 0.86522171]\n",
      " [0.2994379  0.52704208]\n",
      " [0.07148681 0.58323841]\n",
      " [0.2379064  0.76496365]\n",
      " [0.17363164 0.31274226]\n",
      " [0.01447448 0.03255192]\n",
      " [0.49670184 0.46831253]\n",
      " [0.12769032 0.2575625 ]\n",
      " [0.00318111 0.38106775]\n",
      " [0.57587308 0.42729877]\n",
      " [0.83510235 0.61649125]\n",
      " [0.26608391 0.81102211]\n",
      " [0.49948675 0.75881032]\n",
      " [0.56608909 0.43744036]\n",
      " [0.39615444 0.02223529]\n",
      " [0.46935079 0.6235584 ]\n",
      " [0.94611342 0.43532608]\n",
      " [0.4856414  0.51911514]\n",
      " [0.40859098 0.57879572]\n",
      " [0.07035067 0.48838383]\n",
      " [0.61014483 0.74387911]\n",
      " [0.42983032 0.30280213]\n",
      " [0.00589003 0.75647897]\n",
      " [0.07757597 0.48998804]\n",
      " [0.3043611  0.84082216]\n",
      " [0.95047586 0.31887458]\n",
      " [0.89776829 0.33752905]\n",
      " [0.81211211 0.7988436 ]\n",
      " [0.65528518 0.22870345]\n",
      " [0.13767446 0.42437114]\n",
      " [0.15153875 0.87327295]\n",
      " [0.17912676 0.03029466]\n",
      " [0.55924968 0.42880625]\n",
      " [0.85859742 0.16083138]\n",
      " [0.3603537  0.64050994]\n",
      " [0.93107935 0.26180102]\n",
      " [0.68809841 0.14905265]\n",
      " [0.74015497 0.29318128]\n",
      " [0.2437451  0.22982144]\n",
      " [0.37065117 0.32855509]\n",
      " [0.61264167 0.5447154 ]\n",
      " [0.7496431  0.29495429]\n",
      " [0.96055373 0.54348276]\n",
      " [0.67942415 0.68825925]\n",
      " [0.15229779 0.14502445]\n",
      " [0.46204382 0.52193353]\n",
      " [0.27204475 0.18012095]\n",
      " [0.50392109 0.65963835]\n",
      " [0.22875445 0.21841823]\n",
      " [0.95489906 0.72489293]\n",
      " [0.03433685 0.98161703]\n",
      " [0.00849617 0.26496188]\n",
      " [0.91732415 0.08038772]\n",
      " [0.8547157  0.1446774 ]\n",
      " [0.17924108 0.78467347]\n",
      " [0.89542406 0.46073433]\n",
      " [0.03848368 0.31530526]\n",
      " [0.01529325 0.34917369]\n",
      " [0.65931002 0.26521613]\n",
      " [0.65201884 0.9274802 ]\n",
      " [0.46613876 0.20710956]\n",
      " [0.92271424 0.94585661]\n",
      " [0.13490565 0.89963853]\n",
      " [0.29214917 0.12817544]\n",
      " [0.11807669 0.75945008]\n",
      " [0.08844251 0.76315174]\n",
      " [0.23961855 0.41878379]\n",
      " [0.14301771 0.6526698 ]\n",
      " [0.45778593 0.39383015]\n",
      " [0.80467314 0.45901511]\n",
      " [0.69156834 0.78198908]\n",
      " [0.61488126 0.96139089]\n",
      " [0.55087805 0.21901253]\n",
      " [0.54187984 0.24455698]\n",
      " [0.08332702 0.75636209]\n",
      " [0.26449755 0.31364044]\n",
      " [0.98834286 0.40055783]\n",
      " [0.4413121  0.92059873]\n",
      " [0.79006638 0.85948209]\n",
      " [0.46835671 0.21250357]\n",
      " [0.06563882 0.07981402]\n",
      " [0.13698955 0.26934892]]\n",
      "[0 0 0 0 0 0 0 0 0 0 0 0 0 0 0 0 0 0 0 0 0 0 0 0 0 0 0 0 0 0 0 0 0 0 0 0 0\n",
      " 0 0 0 0 0 0 0 0 0 0 0 0 0 0 0 0 0 0 0 0 0 0 0 0 0 0 0 0 0 0 0 0 0 0 0 0 0\n",
      " 0 0 0 0 0 0 0 0 0 0 0 0 0 0 0 0 0 0 0 0 0 0 0 0 0 0]\n"
     ]
    },
    {
     "data": {
      "image/png": "[encoded data removed]",
      "text/plain": [
       "<Figure size 640x480 with 1 Axes>"
      ]
     },
     "metadata": {},
     "output_type": "display_data"
    }
   ],
   "source": [
    "import numpy as np\n",
    "import matplotlib.pyplot as plt\n",
    "\n",
    "# 乱数シードを固定\n",
    "rng = np.random.default_rng(123)\n",
    "# x軸, y軸ともに0, 1までの一葉分布から100点をサンプリング\n",
    "X0 = rng.uniform(size=(100,2))\n",
    "# クラス0のラベルを100個生成\n",
    "# repeat: 第一引数の要素を第二引数分生成\n",
    "y0 = np.repeat(0, 100)\n",
    "print(X0)\n",
    "print(y0)\n",
    "# x軸, y軸ともに -1, 0までの一葉分布から100点をサンプリング\n",
    "X1 = rng.uniform(-1.0, 0.0, size=(100, 2))\n",
    "# クラス1のラベルを100個生成\n",
    "y1 = np.repeat(1, 100)\n",
    "# 散布図プロット\n",
    "fig, ax = plt.subplots()\n",
    "ax.scatter(X0[:, 0], X0[:, 1], marker='o', label='class 0')\n",
    "ax.scatter(X1[:, 0], X1[:, 1], marker='x', label='class 1')\n",
    "ax.set_xlabel('x')\n",
    "ax.set_ylabel('y')\n",
    "ax.legend()\n",
    "plt.show()\n"
   ]
  },
  {
   "cell_type": "code",
   "execution_count": 33,
   "metadata": {},
   "outputs": [],
   "source": [
    "from sklearn.svm import SVC\n",
    "\n",
    "# 学習及び決定境界、マージン、サポートベクタを可視化する関数を作成\n",
    "def plot_boundary_margin_sv(X0, y0, X1, y1, kernel, C, xmin=-1, xmax=1, ymin=-1, ymax=1):\n",
    "    # サポートベクタマシンのインスタンス化\n",
    "    svc = SVC(kernel=kernel, C=C)\n",
    "    # 学習\n",
    "    svc.fit(np.vstack((X0, X1)), np.hstack((y0, y1)))\n",
    "\n",
    "    # 可視化\n",
    "    fig, ax = plt.subplots()\n",
    "    ax.scatter(X0[:, 0], X0[:, 1], marker='o', label='class0')\n",
    "    ax.scatter(X1[:, 0], X1[:, 1], marker='x', label='class1')\n",
    "    # 決定境界とマージンをプロット\n",
    "    xx, yy = np.meshgrid(np.linspace(xmin, xmax, 100), np.linspace(ymin, ymax, 100))\n",
    "    xy = np.vstack([xx.ravel(), yy.ravel()]).T\n",
    "    p = svc.decision_function(xy).reshape((100, 100))\n",
    "    # 投稿線を書くやつ\n",
    "    ax.contour(xx, yy, p, colors='k', levels=[-1, 0, 1], alpha=0.5, linestyles=['--', '-', '--'])\n",
    "\n",
    "    \n",
    "    # サポートベクタをプロット\n",
    "    ax.scatter(\n",
    "        svc.support_vectors_[:, 0],\n",
    "        svc.support_vectors_[:, 1],\n",
    "        s=250,\n",
    "        facecolors='none',\n",
    "        edgecolors='black'\n",
    "        )\n",
    "    ax.set_xlabel('x')\n",
    "    ax.set_ylabel('y')\n",
    "    ax.legend(loc='best')\n",
    "    plt.show()\n"
   ]
  },
  {
   "cell_type": "code",
   "execution_count": 34,
   "metadata": {},
   "outputs": [
    {
     "data": {
      "image/png": "[encoded data removed]",
      "text/plain": [
       "<Figure size 640x480 with 1 Axes>"
      ]
     },
     "metadata": {},
     "output_type": "display_data"
    }
   ],
   "source": [
    "# 決定境界、マージン、サポートベクタをプロット\n",
    "plot_boundary_margin_sv(X0, y0, X1, y1, kernel='linear', C=1e6)"
   ]
  },
  {
   "cell_type": "code",
   "execution_count": null,
   "metadata": {},
   "outputs": [],
   "source": []
  }
 ],
 "metadata": {
  "kernelspec": {
   "display_name": ".studyenv",
   "language": "python",
   "name": "python3"
  },
  "language_info": {
   "codemirror_mode": {
    "name": "ipython",
    "version": 3
   },
   "file_extension": ".py",
   "mimetype": "text/x-python",
   "name": "python",
   "nbconvert_exporter": "python",
   "pygments_lexer": "ipython3",
   "version": "3.11.0"
  }
 },
 "nbformat": 4,
 "nbformat_minor": 2
}
