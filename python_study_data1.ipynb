{
 "cells": [
  {
   "cell_type": "code",
   "execution_count": 1,
   "metadata": {},
   "outputs": [
    {
     "name": "stdout",
     "output_type": "stream",
     "text": [
      "['apple', 'banana', 'cherry']\n"
     ]
    }
   ],
   "source": [
    "text = \"apple,banana,cherry\"\n",
    "# splitは文字列を分割\n",
    "words = text.split(',')\n",
    "print(words)  # 出力: ['apple', 'banana', 'cherry']\n"
   ]
  },
  {
   "cell_type": "code",
   "execution_count": 2,
   "metadata": {},
   "outputs": [
    {
     "name": "stdout",
     "output_type": "stream",
     "text": [
      "'Hello, World!'\n",
      "'   Hello, World!'\n",
      "'Hello, World!   '\n"
     ]
    }
   ],
   "source": [
    "text = \"   Hello, World!   \"\n",
    "# 文字列の両サイドの空白を削除\n",
    "stripped_text = text.strip()\n",
    "print(f\"'{stripped_text}'\")  # 出力: 'Hello, World!'\n",
    "# 文字列の右がわの空白削除\n",
    "rstrip_text = text.rstrip()\n",
    "# 文字列の左側空白削除\n",
    "lstrip_text = text.lstrip()\n",
    "print(f\"'{rstrip_text}'\")  # 出力: '   Hello, World!'\n",
    "print(f\"'{lstrip_text}'\")  # 出力: 'Hello, World!   '\n",
    "\n"
   ]
  },
  {
   "cell_type": "code",
   "execution_count": null,
   "metadata": {},
   "outputs": [],
   "source": []
  }
 ],
 "metadata": {
  "kernelspec": {
   "display_name": ".studyenv",
   "language": "python",
   "name": "python3"
  },
  "language_info": {
   "codemirror_mode": {
    "name": "ipython",
    "version": 3
   },
   "file_extension": ".py",
   "mimetype": "text/x-python",
   "name": "python",
   "nbconvert_exporter": "python",
   "pygments_lexer": "ipython3",
   "version": "3.11.0"
  }
 },
 "nbformat": 4,
 "nbformat_minor": 2
}
