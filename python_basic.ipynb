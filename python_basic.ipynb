{
 "cells": [
  {
   "cell_type": "code",
   "execution_count": 5,
   "metadata": {},
   "outputs": [
    {
     "name": "stdout",
     "output_type": "stream",
     "text": [
      "word[2:5] is cde\n",
      "word[-5:] is cdefg\n"
     ]
    }
   ],
   "source": [
    "# スライスの位置指定[start:end] start<= x < endのところまでを取得する\n",
    "# |a|b|c|d|e|f|g|\n",
    "# 0 1 2 3 4 5 6 7\n",
    "word = \"abcdefg\"\n",
    "sliced_word = word[2:5]\n",
    "print(f\"word[2:5] is {sliced_word}\")\n",
    "\n",
    "# 負の値で選択する場合は、以下のような数字の振られ方をしている\n",
    "# |a |b |c |d |e |f | g|\n",
    "# -7 -6 -5 -4 -3 -2 -1 \n",
    "sliced_word2 = word[-5:] # -5の位置以降の要素を取得\n",
    "print(f\"word[-5:] is {sliced_word2}\")"
   ]
  },
  {
   "cell_type": "markdown",
   "metadata": {},
   "source": [
    "### フォーマット拡張子\n",
    "\n",
    "- b: 2進数\n",
    "- d: 値を10進数で表現\n",
    "- x: 値を16進数で表現\n",
    "- f:値を与えられた精度まで小数点 デフォルト少数第6位\n",
    "%:値を100倍し、パーセント記号を付与して表示　デフォルト少数第6位"
   ]
  },
  {
   "cell_type": "code",
   "execution_count": 8,
   "metadata": {},
   "outputs": [
    {
     "name": "stdout",
     "output_type": "stream",
     "text": [
      "価格:     15000\n",
      "3.14159\n",
      "1010\n",
      "10\n",
      "a\n",
      "10.000000\n",
      "1000.000000%\n"
     ]
    }
   ],
   "source": [
    "import math\n",
    "\n",
    "price = 15000\n",
    "\n",
    "print(f\"価格:{price:10d}\")\n",
    "\n",
    "# 小数点の桁数を決める際は、.xf\n",
    "print(f\"{math.pi:.5f}\")\n",
    "\n",
    "print(f\"{10:b}\")\n",
    "print(f\"{10:d}\")\n",
    "print(f\"{10:x}\")\n",
    "print(f\"{10:f}\")\n",
    "print(f\"{10:%}\")"
   ]
  },
  {
   "cell_type": "markdown",
   "metadata": {},
   "source": [
    "### フォーマット文字列\n",
    "「\"〜〜\"」中の「{}」指定された場所にformatで指定した引数を順番に代入してprintしてくれる\n",
    "\n"
   ]
  },
  {
   "cell_type": "code",
   "execution_count": 9,
   "metadata": {},
   "outputs": [
    {
     "name": "stdout",
     "output_type": "stream",
     "text": [
      "200, 100, 300\n",
      "200, 100, 300\n",
      "200, 100, 300\n",
      "010,  2, 5\n"
     ]
    }
   ],
   "source": [
    "x, y, z = 200, 100, 300\n",
    "a = 100000\n",
    "print(\"{}, {}, {}\".format(x,y,z))\n",
    "print(\"{0}, {1}, {2}\".format(x,y,z))\n",
    "print(\"{a}, {b}, {c}\".format(a=x, b=y, c=z))\n",
    "print(\"{:03d}, {:2d}, {:x}\".format(10, 2, 5))\n",
    "# 以下の値の渡し方は不適です\n",
    "# これはダメ　print(\"{x}, {y}, {z}\".format(x,y,z))"
   ]
  },
  {
   "cell_type": "markdown",
   "metadata": {},
   "source": [
    "## データ構造"
   ]
  },
  {
   "cell_type": "markdown",
   "metadata": {},
   "source": [
    "### リスト\n"
   ]
  },
  {
   "cell_type": "code",
   "execution_count": 15,
   "metadata": {},
   "outputs": [
    {
     "name": "stdout",
     "output_type": "stream",
     "text": [
      "[1, 2, 3, 4, 5]\n",
      "[1, 2, 3, 4, 5, 10]\n",
      "[8, 1, 2, 3, 4, 5, 10]\n",
      "[8, 1, 2, 3, 4, 5]\n",
      "[1, 2, 3, 4, 5]\n"
     ]
    }
   ],
   "source": [
    "list = [1,2,3,4,5]\n",
    "print(list)\n",
    "# 要素を末尾に追加\n",
    "list.append(10)\n",
    "print(list)\n",
    "# 特定の位置に要素を追加\n",
    "# insert(追加位置, 追加要素)\n",
    "list.insert(0, 8)\n",
    "print(list)\n",
    "# リストの末尾から取り出し\n",
    "list.pop() # or list.pop(-1)\n",
    "print(list)\n",
    "# 先頭からの取り出し\n",
    "list.pop(0)\n",
    "print(list)\n"
   ]
  },
  {
   "cell_type": "code",
   "execution_count": null,
   "metadata": {},
   "outputs": [],
   "source": []
  }
 ],
 "metadata": {
  "kernelspec": {
   "display_name": ".studyenv",
   "language": "python",
   "name": "python3"
  },
  "language_info": {
   "codemirror_mode": {
    "name": "ipython",
    "version": 3
   },
   "file_extension": ".py",
   "mimetype": "text/x-python",
   "name": "python",
   "nbconvert_exporter": "python",
   "pygments_lexer": "ipython3",
   "version": "3.11.0"
  }
 },
 "nbformat": 4,
 "nbformat_minor": 2
}
