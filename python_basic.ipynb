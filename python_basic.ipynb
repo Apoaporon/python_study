{
 "cells": [
  {
   "cell_type": "code",
   "execution_count": 32,
   "metadata": {},
   "outputs": [
    {
     "name": "stdout",
     "output_type": "stream",
     "text": [
      "切り捨て==1\n",
      "切り上げ==2\n"
     ]
    }
   ],
   "source": [
    "hoge = 6//4 # 切り捨てになります\n",
    "hoge2 = (6 + 4-1) //4 #(a+b-1)//b 切り上げ\n",
    "print(f\"切り捨て=={hoge}\")\n",
    "print(f\"切り上げ=={hoge2}\")"
   ]
  },
  {
   "cell_type": "code",
   "execution_count": 5,
   "metadata": {},
   "outputs": [
    {
     "name": "stdout",
     "output_type": "stream",
     "text": [
      "word[2:5] is cde\n",
      "word[-5:] is cdefg\n"
     ]
    }
   ],
   "source": [
    "# スライスの位置指定[start:end] start<= x < endのところまでを取得する\n",
    "# |a|b|c|d|e|f|g|\n",
    "# 0 1 2 3 4 5 6 7\n",
    "word = \"abcdefg\"\n",
    "sliced_word = word[2:5]\n",
    "print(f\"word[2:5] is {sliced_word}\")\n",
    "\n",
    "# 負の値で選択する場合は、以下のような数字の振られ方をしている\n",
    "# |a |b |c |d |e |f | g|\n",
    "# -7 -6 -5 -4 -3 -2 -1 \n",
    "sliced_word2 = word[-5:] # -5の位置以降の要素を取得\n",
    "print(f\"word[-5:] is {sliced_word2}\")"
   ]
  },
  {
   "cell_type": "markdown",
   "metadata": {},
   "source": [
    "### フォーマット拡張子\n",
    "\n",
    "- b: 2進数\n",
    "- d: 値を10進数で表現\n",
    "- x: 値を16進数で表現\n",
    "- f:値を与えられた精度まで小数点 デフォルト少数第6位\n",
    "%:値を100倍し、パーセント記号を付与して表示　デフォルト少数第6位"
   ]
  },
  {
   "cell_type": "code",
   "execution_count": 8,
   "metadata": {},
   "outputs": [
    {
     "name": "stdout",
     "output_type": "stream",
     "text": [
      "価格:     15000\n",
      "3.14159\n",
      "1010\n",
      "10\n",
      "a\n",
      "10.000000\n",
      "1000.000000%\n"
     ]
    }
   ],
   "source": [
    "import math\n",
    "\n",
    "price = 15000\n",
    "\n",
    "print(f\"価格:{price:10d}\")\n",
    "\n",
    "# 小数点の桁数を決める際は、.xf\n",
    "print(f\"{math.pi:.5f}\")\n",
    "\n",
    "print(f\"{10:b}\")\n",
    "print(f\"{10:d}\")\n",
    "print(f\"{10:x}\")\n",
    "print(f\"{10:f}\")\n",
    "print(f\"{10:%}\")"
   ]
  },
  {
   "cell_type": "markdown",
   "metadata": {},
   "source": [
    "### フォーマット文字列\n",
    "「\"〜〜\"」中の「{}」指定された場所にformatで指定した引数を順番に代入してprintしてくれる\n",
    "\n"
   ]
  },
  {
   "cell_type": "code",
   "execution_count": 9,
   "metadata": {},
   "outputs": [
    {
     "name": "stdout",
     "output_type": "stream",
     "text": [
      "200, 100, 300\n",
      "200, 100, 300\n",
      "200, 100, 300\n",
      "010,  2, 5\n"
     ]
    }
   ],
   "source": [
    "x, y, z = 200, 100, 300\n",
    "a = 100000\n",
    "print(\"{}, {}, {}\".format(x,y,z))\n",
    "print(\"{0}, {1}, {2}\".format(x,y,z))\n",
    "print(\"{a}, {b}, {c}\".format(a=x, b=y, c=z))\n",
    "print(\"{:03d}, {:2d}, {:x}\".format(10, 2, 5))\n",
    "# 以下の値の渡し方は不適です\n",
    "# これはダメ　print(\"{x}, {y}, {z}\".format(x,y,z))"
   ]
  },
  {
   "cell_type": "markdown",
   "metadata": {},
   "source": [
    "## データ構造"
   ]
  },
  {
   "cell_type": "markdown",
   "metadata": {},
   "source": [
    "### リスト\n"
   ]
  },
  {
   "cell_type": "code",
   "execution_count": 15,
   "metadata": {},
   "outputs": [
    {
     "name": "stdout",
     "output_type": "stream",
     "text": [
      "[1, 2, 3, 4, 5]\n",
      "[1, 2, 3, 4, 5, 10]\n",
      "[8, 1, 2, 3, 4, 5, 10]\n",
      "[8, 1, 2, 3, 4, 5]\n",
      "[1, 2, 3, 4, 5]\n"
     ]
    }
   ],
   "source": [
    "list = [1,2,3,4,5]\n",
    "print(list)\n",
    "# 要素を末尾に追加\n",
    "list.append(10)\n",
    "print(list)\n",
    "# 特定の位置に要素を追加\n",
    "# insert(追加位置, 追加要素)\n",
    "list.insert(0, 8)\n",
    "print(list)\n",
    "# リストの末尾から取り出し\n",
    "list.pop() # or list.pop(-1)\n",
    "print(list)\n",
    "# 先頭からの取り出し\n",
    "list.pop(0)\n",
    "print(list)\n"
   ]
  },
  {
   "cell_type": "markdown",
   "metadata": {},
   "source": [
    "### 真偽の判定\n",
    "- andは最初に偽になった値を返す。偽が出た時点で処理を止める　全て真の場合は最終の値が返却\n",
    "- orの場合は、最初に真になった値を返す　以降の数字は見ない\n",
    "- pythonにおいて0 = 偽　その他の数値 = 真"
   ]
  },
  {
   "cell_type": "code",
   "execution_count": 17,
   "metadata": {},
   "outputs": [
    {
     "name": "stdout",
     "output_type": "stream",
     "text": [
      "0 1 0\n"
     ]
    }
   ],
   "source": [
    "def num(value):\n",
    "    return value\n",
    "# andなので最初に偽(0 = 偽)であるためその値を返して終了\n",
    "value1 = num(0) and num(1) and num(2)\n",
    "# orなので最初に真になった値があったらそれを返して終了\n",
    "value2 = num(0) or num(1) or num(2)\n",
    "value3 = num(2) and num(1) and num(0)\n",
    "print(value1, value2, value3)\n"
   ]
  },
  {
   "cell_type": "markdown",
   "metadata": {},
   "source": [
    "### Noneの比較\n",
    "- Javaとかでもあるが、ちょっと癖がある\n",
    "    - 「==」の判定はラッピングが可能であるため最適解になり得ない"
   ]
  },
  {
   "cell_type": "code",
   "execution_count": 18,
   "metadata": {},
   "outputs": [
    {
     "name": "stdout",
     "output_type": "stream",
     "text": [
      "if not value True\n",
      "if value is None True\n",
      "if value == None True\n"
     ]
    }
   ],
   "source": [
    "value = None\n",
    "if value:\n",
    "    print(\"if value\", True)\n",
    "if not value:\n",
    "    print(\"if not value\", True)\n",
    "if value is None: #これがベストらしいです\n",
    "    print(\"if value is None\", True)\n",
    "if value == None:\n",
    "    print(\"if value == None\", True)"
   ]
  },
  {
   "cell_type": "markdown",
   "metadata": {},
   "source": [
    "### ループ処理\n",
    "- zip関数\n",
    "    - zip()は複数のイテラブルオブジェクト（リストやタプルなど）の要素をまとめる関数である。"
   ]
  },
  {
   "cell_type": "code",
   "execution_count": 19,
   "metadata": {},
   "outputs": [
    {
     "name": "stdout",
     "output_type": "stream",
     "text": [
      "1\n",
      "22\n",
      "333\n"
     ]
    }
   ],
   "source": [
    "for n, c in zip([1,2,3], [\"1\", \"2\", \"3\"]):\n",
    "    print(c * n) # 文字列 * 数値は数値分文字列を繰り返すという処理になる"
   ]
  },
  {
   "cell_type": "markdown",
   "metadata": {},
   "source": [
    "### 関数のスコープ"
   ]
  },
  {
   "cell_type": "code",
   "execution_count": 23,
   "metadata": {},
   "outputs": [
    {
     "name": "stdout",
     "output_type": "stream",
     "text": [
      "do_local x1 ==200\n",
      "global x1 ==100\n",
      "do_local2 x2 ==500\n",
      "global x2 == 500\n"
     ]
    }
   ],
   "source": [
    "x1 = 100 # グローバル変数\n",
    "\n",
    "def do_local():\n",
    "    x1 = 200\n",
    "    print(f\"do_local x1 =={x1}\")\n",
    "\n",
    "do_local() \n",
    "print(f\"global x1 =={x1}\")# グローバルなx1は更新されていない\n",
    "\n",
    "x2 = 300\n",
    "def do_local2():\n",
    "    global x2 # グローバルなx2をメソッド内で扱うことを宣言\n",
    "    x2 = 500\n",
    "    print(f\"do_local2 x2 =={x2}\")\n",
    "\n",
    "do_local2()\n",
    "print(f\"global x2 == {x2}\") # 値が更新される\n"
   ]
  },
  {
   "cell_type": "markdown",
   "metadata": {},
   "source": [
    "### デフォルト引数\n",
    "- デフォルト引数を与えた時点での変数の要素がメソッドのデフォルト引数の値として設定される。"
   ]
  },
  {
   "cell_type": "code",
   "execution_count": 25,
   "metadata": {},
   "outputs": [
    {
     "name": "stdout",
     "output_type": "stream",
     "text": [
      "HelloWorld\n"
     ]
    }
   ],
   "source": [
    "default_message = \"Hello\"\n",
    "# この時点でのdefault_messageをデフォルト引数の要素に指定\n",
    "def send_message(message1 = default_message, message2=\"\"):\n",
    "    print(message1 + message2)\n",
    "\n",
    "# ここで値を更新してもメソッドのデフォルト引数の要素は変わらない\n",
    "default_message = \"hogehoge\"\n",
    "message2 = \"World\"\n",
    "send_message(message2 = message2) "
   ]
  },
  {
   "cell_type": "markdown",
   "metadata": {},
   "source": [
    "### 可変長引数\n",
    "- *args: 複数の引数をタプルとして受け取る\n",
    "- **kwargs: 複数のキーワード引数を辞書として受け取る\n",
    "- 「*」「**」がついていたら変数名は何でも良い\n",
    "- 引数の順番は①「*args」, ②「**kwargs」の順で与える。逆はエラーになります\n",
    "- 関数呼び出し時に「*」「**」をつけて呼び出すと値がアンパック（取り出された状態）で関数内で利用できるようになる"
   ]
  },
  {
   "cell_type": "code",
   "execution_count": 27,
   "metadata": {},
   "outputs": [
    {
     "name": "stdout",
     "output_type": "stream",
     "text": [
      "name is ===hoge\n",
      "*args items ===('hogehoge', 'hogehogehoge')\n",
      "**kwargs items ==={'kwarg1': 'fuga', 'kwarg2': 'fugafuga', 'test': 'pepo'}\n"
     ]
    }
   ],
   "source": [
    "def function2(name, *args, **kwargs):\n",
    "    print(f\"name is ==={name}\")\n",
    "    print(f\"*args items ==={args}\")\n",
    "    print(f\"**kwargs items ==={kwargs}\")\n",
    "\n",
    "function2(\"hoge\", \"hogehoge\",\"hogehogehoge\", kwarg1=\"fuga\", kwarg2=\"fugafuga\", test=\"pepo\")"
   ]
  },
  {
   "cell_type": "code",
   "execution_count": 28,
   "metadata": {},
   "outputs": [
    {
     "name": "stdout",
     "output_type": "stream",
     "text": [
      "fuga&hoge&pepo\n"
     ]
    }
   ],
   "source": [
    "def concat(*args, sep=\"/\"):\n",
    "    return sep.join(args)\n",
    "\n",
    "words = {\"hoge\", \"fuga\", \"pepo\"}\n",
    "options = {\"sep\":\"&\"}\n",
    "# 引数に*, **を指定することでアンパックして要素を渡す\n",
    "result = concat(*words, **options) \n",
    "print(result)"
   ]
  },
  {
   "cell_type": "markdown",
   "metadata": {},
   "source": [
    "### docstring\n",
    "- 関数の詳細を記載するものになります\n",
    "- トリプルクォーテーションで囲んで記述"
   ]
  },
  {
   "cell_type": "code",
   "execution_count": 31,
   "metadata": {},
   "outputs": [
    {
     "name": "stdout",
     "output_type": "stream",
     "text": [
      "\n",
      "    これはdocstringです\n",
      "\n",
      "    docstringはメソッドの詳細などを記載するものになります\n",
      "    \n",
      "    \n",
      "    何を書くのでしょうか？\n",
      "    これは何？\n",
      "    \n",
      "50\n",
      "None\n",
      "Hello World\n"
     ]
    }
   ],
   "source": [
    "def func():\n",
    "    \"\"\"\n",
    "    これはdocstringです\n",
    "\n",
    "    docstringはメソッドの詳細などを記載するものになります\n",
    "    \n",
    "    \n",
    "    何を書くのでしょうか？\n",
    "    これは何？\n",
    "    \"\"\"\n",
    "    return 10 * 5\n",
    "\n",
    "def func2():\n",
    "    return \"Hello World\"\n",
    "\n",
    "print(func.__doc__)\n",
    "print(func())\n",
    "# docstringが存在しない場合はNoneが返却される\n",
    "print(func2.__doc__)\n",
    "print(func2())"
   ]
  },
  {
   "cell_type": "code",
   "execution_count": null,
   "metadata": {},
   "outputs": [],
   "source": []
  }
 ],
 "metadata": {
  "kernelspec": {
   "display_name": ".studyenv",
   "language": "python",
   "name": "python3"
  },
  "language_info": {
   "codemirror_mode": {
    "name": "ipython",
    "version": 3
   },
   "file_extension": ".py",
   "mimetype": "text/x-python",
   "name": "python",
   "nbconvert_exporter": "python",
   "pygments_lexer": "ipython3",
   "version": "3.11.0"
  }
 },
 "nbformat": 4,
 "nbformat_minor": 2
}
