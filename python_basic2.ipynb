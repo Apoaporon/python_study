{
 "cells": [
  {
   "cell_type": "markdown",
   "metadata": {},
   "source": [
    "### collections\n",
    "- リスト、タプル、辞書などの基本的なデータ構造を拡張した特殊なデータ構造を提供します"
   ]
  },
  {
   "cell_type": "code",
   "execution_count": 4,
   "metadata": {},
   "outputs": [
    {
     "name": "stdout",
     "output_type": "stream",
     "text": [
      "deque(['hoge', 'fuga'])\n",
      "deque(['hoge', 'fuga', 'hogehoge'])\n",
      "deque(['hello', 'hoge', 'fuga', 'hogehoge'])\n",
      "deque(['hoge', 'fuga', 'hogehoge'])\n",
      "deque(['hoge', 'fuga'])\n"
     ]
    }
   ],
   "source": [
    "from collections import deque\n",
    "\n",
    "queue = deque(['hoge', 'fuga'])\n",
    "print(queue)\n",
    "# 末尾に追加\n",
    "queue.append('hogehoge')\n",
    "print(queue)\n",
    "# 先頭に追加\n",
    "queue.appendleft('hello')\n",
    "print(queue)\n",
    "# 先頭をpop\n",
    "queue.popleft()\n",
    "print(queue)\n",
    "# 末尾をpop\n",
    "queue.pop()\n",
    "print(queue)"
   ]
  },
  {
   "cell_type": "markdown",
   "metadata": {},
   "source": [
    "## リスト内包括表記の書き方\n",
    "- [式 for 任意の変数名 in range()など]という形で表現する"
   ]
  },
  {
   "cell_type": "code",
   "execution_count": 6,
   "metadata": {},
   "outputs": [
    {
     "name": "stdout",
     "output_type": "stream",
     "text": [
      "リスト内表記=={1: 1, 3: 27, 6: 216}\n",
      "リスト内包括を利用しない場合=={1: 1, 3: 27, 6: 216}\n",
      "[2, 4, 6, 8, 10, 12, 14, 16, 18]\n"
     ]
    }
   ],
   "source": [
    "\n",
    "# リスト内包表記の書き方\n",
    "d = {x: x**3 for x in (1,3,6)}\n",
    "print(f\"リスト内表記=={d}\")\n",
    "# dと同じ書き方\n",
    "not_d = {}\n",
    "for x in (1,3,6):\n",
    "    not_d[x] = x**3\n",
    "print(f\"リスト内包括を利用しない場合=={not_d}\")\n",
    "\n",
    "d2 = [i*2 for i in range(1,10)]\n",
    "print(d2)"
   ]
  },
  {
   "cell_type": "code",
   "execution_count": null,
   "metadata": {},
   "outputs": [],
   "source": []
  }
 ],
 "metadata": {
  "kernelspec": {
   "display_name": ".studyenv",
   "language": "python",
   "name": "python3"
  },
  "language_info": {
   "codemirror_mode": {
    "name": "ipython",
    "version": 3
   },
   "file_extension": ".py",
   "mimetype": "text/x-python",
   "name": "python",
   "nbconvert_exporter": "python",
   "pygments_lexer": "ipython3",
   "version": "3.11.0"
  }
 },
 "nbformat": 4,
 "nbformat_minor": 2
}
