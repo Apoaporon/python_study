{
 "cells": [
  {
   "cell_type": "code",
   "execution_count": 1,
   "metadata": {},
   "outputs": [],
   "source": [
    "import numpy as np"
   ]
  },
  {
   "cell_type": "code",
   "execution_count": 28,
   "metadata": {},
   "outputs": [
    {
     "name": "stdout",
     "output_type": "stream",
     "text": [
      "(3,)\n",
      "<class 'numpy.ndarray'>\n",
      "<built-in method astype of numpy.ndarray object at 0x10aec85d0>\n",
      "int64\n",
      "printで出力するとarray配列表示ではなくなります:[1 2 3]\n"
     ]
    },
    {
     "data": {
      "text/plain": [
       "array([1, 2, 3])"
      ]
     },
     "execution_count": 28,
     "metadata": {},
     "output_type": "execute_result"
    }
   ],
   "source": [
    "# 1次元配列の生成\n",
    "sample1 = np.array([1,2,3])\n",
    "print(sample1.shape)\n",
    "print(type(sample1))\n",
    "print(sample1.astype)\n",
    "print(sample1.dtype)\n",
    "print(f\"printで出力するとarray配列表示ではなくなります:{sample1}\")\n",
    "sample1"
   ]
  },
  {
   "cell_type": "code",
   "execution_count": 29,
   "metadata": {},
   "outputs": [
    {
     "name": "stdout",
     "output_type": "stream",
     "text": [
      "(2, 3)\n",
      "<class 'numpy.ndarray'>\n",
      "<built-in method astype of numpy.ndarray object at 0x10b41e9d0>\n",
      "int64\n"
     ]
    },
    {
     "data": {
      "text/plain": [
       "array([[1, 2, 3],\n",
       "       [4, 5, 6]])"
      ]
     },
     "execution_count": 29,
     "metadata": {},
     "output_type": "execute_result"
    }
   ],
   "source": [
    "# 2次元配列を指定\n",
    "sample2 = np.array([[1,2,3],[4,5,6]])\n",
    "print(sample2.shape)\n",
    "print(type(sample2))\n",
    "print(sample2.astype)\n",
    "print(sample2.dtype)\n",
    "sample2"
   ]
  },
  {
   "cell_type": "code",
   "execution_count": 30,
   "metadata": {},
   "outputs": [
    {
     "name": "stdout",
     "output_type": "stream",
     "text": [
      "[1 2 3]\n",
      "4\n",
      "[[1 2 3]\n",
      " [4 5 6]]\n",
      "[3 6 9]\n",
      "[[4 5 6]\n",
      " [7 8 9]]\n",
      "#######\n",
      "[7 8 9]\n",
      "######\n",
      "[2 3]\n",
      "[5 8]\n",
      "###################\n",
      "[[1 3]\n",
      " [4 6]\n",
      " [7 9]]\n"
     ]
    }
   ],
   "source": [
    "b = np.array([[1,2,3],[4,5,6],[7,8,9]])\n",
    "print(b[0])\n",
    "print(b[1,0])\n",
    "print(b[:2]) # <- この書き方だと普通のスライス\n",
    "print(b[:,2])# <- ,2にすると全ての行の3番目の要素を抽出\n",
    "print(b[1:])# <- \n",
    "print(\"#######\")\n",
    "print(b[2,:])# <- 2, = 2, = 2番目の行 = [7,8,9] :=全ての要素\n",
    "# print(b[1,:,1]) <-　この指定方法は誤り\n",
    "print(\"######\")\n",
    "print(b[0,1:]) # <- 0, = 0番目の行 = [1,2,3] 1: = 2つ目の要素以降\n",
    "print(b[1: ,1]) # <- 1: = 1番目の行から最後の行 = [4,5,6],[7,8,9] ,1 = 各行の1番目 = 5,8\n",
    "print(\"###################\")\n",
    "print(b[:,[0,2]]) # <- : = 全ての行 [0,2] = 1番目の要素と3番目の要素を取得\n"
   ]
  },
  {
   "cell_type": "markdown",
   "metadata": {},
   "source": [
    "### 行列の変換\n",
    "- reshape(a, b)を利用すると(a×b行列に変換できる)\n",
    "- 行列のどちらかを-1と設定すると、設定していないもう片方の方にうまく次元数を合わせてくれる\n",
    "- ただし、設定する次元数が合わない場合は行列両方指定、-1を利用した指定どちらもエラーになってしまいます"
   ]
  },
  {
   "cell_type": "code",
   "execution_count": 21,
   "metadata": {},
   "outputs": [
    {
     "name": "stdout",
     "output_type": "stream",
     "text": [
      "[0 1 2 3 4 5]\n",
      "[[0 1 2]\n",
      " [3 4 5]]\n",
      "[[0 1]\n",
      " [2 3]\n",
      " [4 5]]\n",
      "[[0 1 2]\n",
      " [3 4 5]]\n"
     ]
    }
   ],
   "source": [
    "sample3 = np.array([0,1,2,3,4,5])\n",
    "reshape1 = sample3.reshape(2,3)\n",
    "# reshape_out = sample3.reshape(5,2) <- こちらは次元数が適切に分割できないためエラー\n",
    "reshape2 = sample3.reshape(3,-1)\n",
    "reshape3 = sample3.reshape(-1, 3)\n",
    "# reshape4 = sample3.reshape(-1, 4) <- こちらは次元数が適切に分割できないためエラー\n",
    "print(sample3)\n",
    "print(reshape1)\n",
    "print(reshape2)\n",
    "print(reshape3)\n"
   ]
  },
  {
   "cell_type": "markdown",
   "metadata": {},
   "source": [
    "### 参照とコピー\n",
    "- 参照は変数に代入されたメモリ上のアドレスを渡す\n",
    "    - 「ravel」を利用する\n",
    "    - numpyもスライスを利用できるが、スライスを利用した場合は参照が渡される\n",
    "- コピーは変数に代入されたオブジェクトを複製して新しいオブジェクトを作成\n",
    "    - 「flatten」を利用する\n",
    "    - python標準リストのスライス([x:y])はコピーを渡す\n",
    "\n",
    "### 浅いコピーと深いコピー\n",
    "- 浅いコピー\n",
    "    - オブジェクトのコピーを作成するが、コピーされたオブジェクトの内部に含まれる他のオブジェクトは参照が渡される\n",
    "- 深いコピー\n",
    "    - オブジェクトの全てのコピーを作成する\n",
    "- 場合わけ\n",
    "    - Pythonの標準リスト型では、浅いコピーと深いコピーが区別\n",
    "    - Numpyのcopyメソッドでは、オブジェクトを別に生成するので、深いコピーとなる\n"
   ]
  },
  {
   "cell_type": "code",
   "execution_count": 23,
   "metadata": {},
   "outputs": [
    {
     "name": "stdout",
     "output_type": "stream",
     "text": [
      "[  0 100   2   3   4   5]\n",
      "[  0 100   2   3   4   5]\n"
     ]
    }
   ],
   "source": [
    "sample4 = np.array([0,1,2,3,4,5])\n",
    "# 参照\n",
    "ravel1 = sample4.ravel()\n",
    "ravel1[1] = 100\n",
    "\n",
    "# 参照渡しであるため、ravelの特定の要素の更新がsample4にも影響している\n",
    "print(sample4)\n",
    "print(ravel1)\n"
   ]
  },
  {
   "cell_type": "code",
   "execution_count": 25,
   "metadata": {},
   "outputs": [
    {
     "name": "stdout",
     "output_type": "stream",
     "text": [
      "[0 1 2 3 4 5]\n",
      "[  0 100   2   3   4   5]\n"
     ]
    }
   ],
   "source": [
    "sample5 = np.array([0,1,2,3,4,5])\n",
    "# copy\n",
    "flatten1 = sample5.flatten()\n",
    "flatten1[1] = 100\n",
    "\n",
    "# copyであるため、元の要素に影響を与えない\n",
    "print(sample5)\n",
    "print(flatten1)\n"
   ]
  },
  {
   "cell_type": "code",
   "execution_count": 27,
   "metadata": {},
   "outputs": [
    {
     "name": "stdout",
     "output_type": "stream",
     "text": [
      "[0, 1] [0, 1]\n",
      "[0, 1] [20, 1]\n",
      "=======================\n",
      "[0 1] [0 1]\n",
      "[100   1] [100   1]\n"
     ]
    }
   ],
   "source": [
    "py_list1 = [0,1]\n",
    "py_list2 = py_list1[:] # python標準のスライスはコピー\n",
    "print(py_list1, py_list2)\n",
    "py_list2[0] = 20\n",
    "print(py_list1, py_list2)\n",
    "\n",
    "print(\"=======================\")\n",
    "np_array1 = np.array([0,1])\n",
    "np_array2 = np_array1[:] # Numpyのスライスは参照として生成\n",
    "print(np_array1, np_array2)\n",
    "np_array2[0] = 100\n",
    "print(np_array1, np_array2)\n"
   ]
  },
  {
   "cell_type": "code",
   "execution_count": 26,
   "metadata": {},
   "outputs": [
    {
     "name": "stdout",
     "output_type": "stream",
     "text": [
      "1,2は新規オブジェクトが生成されるが[3,4,5]については、参照として複製\n",
      "[1, 2, [3, 4, 5]]\n",
      "[1, 2, [3, 4, 5]]\n",
      "deepcopyは全く同じオブジェクトを生成します\n",
      "[1, 2, [3, 4, 5]]\n",
      "[1, 2, [3, 4, 5]]\n"
     ]
    }
   ],
   "source": [
    "# 浅いコピー\n",
    "import copy\n",
    "a = [1, 2, [3, 4, 5]]\n",
    "b = a.copy()\n",
    "print(\"1,2は新規オブジェクトが生成されるが[3,4,5]については、参照として複製\")\n",
    "print(a)\n",
    "print(b)\n",
    "# 深いコピー\n",
    "c = copy.deepcopy(a)\n",
    "print(\"deepcopyは全く同じオブジェクトを生成します\")\n",
    "print(a)\n",
    "print(c)"
   ]
  },
  {
   "cell_type": "markdown",
   "metadata": {},
   "source": [
    "### さまざまなnumpyの変数生成方法\n",
    "- arange\n",
    "    - arange(x):0~x-1までの要素を生成\n",
    "    - arange(x,y):x~y-1までの要素を生成\n",
    "    - arange(x,y,z):x~y-1までの要素をzずつ加算して生成\n",
    "- random\n",
    "    - 要素を指定範囲でrandomに生成\n",
    "- zeros\n",
    "    - zeros(x):指定引数分0の入った配列を生成\n",
    "    - zeros(2,3):指定行列分の0の入った行列を生成\n",
    "- ones\n",
    "    - zerosと同じ指定方法で、1の入った配列を返す\n",
    "- eye\n",
    "    - eye(x):x×xの単位行列を作成\n",
    "- full\n",
    "    - full((x,y), z):第一引数で設定した次元数に第二引数分を入れた配列を生成\n",
    "- linspace\n",
    "    - linspace(x,y,z):第一、第二引数の要素をz(均等割)したデータを作成\n"
   ]
  },
  {
   "cell_type": "code",
   "execution_count": 31,
   "metadata": {},
   "outputs": [
    {
     "name": "stdout",
     "output_type": "stream",
     "text": [
      "[0 1 2 3 4 5 6 7 8 9]\n",
      "[ 1  2  3  4  5  6  7  8  9 10]\n",
      "[1 3 5 7 9]\n"
     ]
    }
   ],
   "source": [
    "sample1 = np.arange(10)\n",
    "sample2 = np.arange(1,11)\n",
    "sample3 = np.arange(1,11,2)\n",
    "print(sample1)\n",
    "print(sample2)\n",
    "print(sample3)"
   ]
  },
  {
   "cell_type": "code",
   "execution_count": 32,
   "metadata": {},
   "outputs": [
    {
     "name": "stdout",
     "output_type": "stream",
     "text": [
      "[[0.61101598 0.11724823]\n",
      " [0.26687715 0.75011105]\n",
      " [0.87899344 0.63418201]]\n",
      "[[0.68235186 0.05382102]\n",
      " [0.22035987 0.18437181]\n",
      " [0.1759059  0.81209451]]\n",
      "1\n",
      "[[1 7 6]\n",
      " [1 9 2]\n",
      " [3 2 4]]\n",
      "[[3.64016952 3.83323819 0.03625096]\n",
      " [3.46839922 0.37199485 3.5077716 ]]\n",
      "[[0.44903672 0.54099488 0.09767262]\n",
      " [0.02065486 0.18914437 0.83910443]\n",
      " [0.12122531 0.33071081 0.03499905]\n",
      " [0.82767899 0.55325528 0.34066084]]\n"
     ]
    }
   ],
   "source": [
    "# random数値を返す\n",
    "# 旧式generator, 最新generatorがありますが、今回は最新の方をレクチャー\n",
    "rng = np.random.default_rng() # <- object生成\n",
    "f = rng.random((3,2)) # m行 * n列という指定で 0<= x < 1までの数値を返す\n",
    "\n",
    "rng2 = np.random.default_rng(123) # seed値を設定することで、randomで返却される値を固定できる\n",
    "f2 = rng2.random((3,2))\n",
    "print(f)\n",
    "print(f2)\n",
    "\n",
    "# 特定の範囲内の数値を生成\n",
    "rng3 = np.random.default_rng(123)\n",
    "f3 = rng3.integers(1,10) # 指定した範囲の数値から1つの値を返す\n",
    "print(f3)\n",
    "\n",
    "rng4 = np.random.default_rng(123)\n",
    "# 第一引数、第二引数は省略可 default 0.0 <= x < 1.0\n",
    "f4 = rng4.integers(1, 10, size=(3,3)) # 第一引数 <= x < 第二引数未満　でランダム整数値を size keyword引数でタプルを渡した行と列を生成\n",
    "print(f4)\n",
    "\n",
    "rng5 = np.random.default_rng(123)\n",
    "# uniformを設定すると返却値がfloatになる\n",
    "f5 = rng.uniform(0.0, 5.0, size=(2,3))\n",
    "print(f5)\n",
    "f6 = rng.uniform(size=(4,3))\n",
    "print(f6)\n"
   ]
  },
  {
   "cell_type": "code",
   "execution_count": 33,
   "metadata": {},
   "outputs": [
    {
     "name": "stdout",
     "output_type": "stream",
     "text": [
      "[[-0.98912135 -0.36778665]\n",
      " [ 1.28792526  0.19397442]\n",
      " [ 0.9202309   0.57710379]\n",
      " [-0.63646365  0.54195222]]\n",
      "[46.83404549 46.77610884 50.97167319]\n"
     ]
    }
   ],
   "source": [
    "# 正規分布に従った乱数\n",
    "rng = np.random.default_rng(123)\n",
    "# 平均0, 分散1の分布で出力\n",
    "x = rng.standard_normal(size=(4,2))\n",
    "print(x)\n",
    "# 平均, 標準偏差, 出力数を指定\n",
    "y = rng.normal(50, 10, 3)\n",
    "print(y)"
   ]
  },
  {
   "cell_type": "code",
   "execution_count": 34,
   "metadata": {},
   "outputs": [
    {
     "name": "stdout",
     "output_type": "stream",
     "text": [
      "[0. 0. 0.]\n",
      "[[0. 0. 0.]\n",
      " [0. 0. 0.]]\n",
      "[1. 1.]\n",
      "[[1. 1. 1.]\n",
      " [1. 1. 1.]]\n",
      "#############\n",
      "[[1. 0. 0.]\n",
      " [0. 1. 0.]\n",
      " [0. 0. 1.]]\n",
      "====指定の値で作成=====\n",
      "[[3.14 3.14 3.14]\n",
      " [3.14 3.14 3.14]\n",
      " [3.14 3.14 3.14]]\n",
      "[[3.14159265 3.14159265 3.14159265]\n",
      " [3.14159265 3.14159265 3.14159265]\n",
      " [3.14159265 3.14159265 3.14159265]]\n"
     ]
    }
   ],
   "source": [
    "# 同じ要素の数列を作成\n",
    "a1 = np.zeros(3) # 指定引数分0の入った配列を返す\n",
    "print(a1)\n",
    "a2 = np.zeros((2,3)) # 指定行列分0の入った行列を返す\n",
    "print(a2)\n",
    "a3 = np.ones(2)# 指定引数分1の入った配列を返す\n",
    "print(a3)\n",
    "a4 = np.ones((2,3))# 指定行列分1の入った行列を返す\n",
    "print(a4)\n",
    "\n",
    "print(\"#############\")\n",
    "# 単位行列の作成\n",
    "a5 = np.eye(3)\n",
    "print(a5)\n",
    "print(\"====指定の値で作成=====\")\n",
    "a6 = np.full((3,3), 3.14) # 第一引数が行列の指定、第二引数が指定値\n",
    "print(a6)\n",
    "a7 = np.full((3,3), np.pi) # np.piで円周率を指定できる\n",
    "print(a7)\n",
    "\n"
   ]
  },
  {
   "cell_type": "code",
   "execution_count": 36,
   "metadata": {},
   "outputs": [
    {
     "name": "stdout",
     "output_type": "stream",
     "text": [
      "[0.   0.25 0.5  0.75 1.  ]\n",
      "[0.         0.15707963 0.31415927 0.4712389  0.62831853 0.78539816\n",
      " 0.9424778  1.09955743 1.25663706 1.41371669 1.57079633 1.72787596\n",
      " 1.88495559 2.04203522 2.19911486 2.35619449 2.51327412 2.67035376\n",
      " 2.82743339 2.98451302 3.14159265]\n",
      "====要素間の差分=====\n",
      "[ 0  4 -5  2]\n"
     ]
    }
   ],
   "source": [
    "# 指定範囲で均等割データを作成\n",
    "a = np.linspace(0, 1, 5)\n",
    "print(a)\n",
    "\n",
    "b = np.linspace(0, np.pi, 21)\n",
    "print(b)\n",
    "\n",
    "print(\"====要素間の差分=====\")\n",
    "c = np.array([2,2,6,1,3])\n",
    "print(np.diff(c)) # 隣り合う要素の差分を表示\n"
   ]
  },
  {
   "cell_type": "markdown",
   "metadata": {},
   "source": [
    "### 欠損値\n",
    "- Nan(not a number)で表現される。\n",
    "    - 数値ではないことを宣言\n",
    "    - ただし、データ型としてはfloat型となっている\n"
   ]
  },
  {
   "cell_type": "code",
   "execution_count": 35,
   "metadata": {},
   "outputs": [
    {
     "name": "stdout",
     "output_type": "stream",
     "text": [
      "nan\n",
      "[ 1.  2. nan]\n"
     ]
    }
   ],
   "source": [
    "# 欠損値の穴埋め Nan\n",
    "print(np.nan)\n",
    "a = np.array([1,2, np.nan])\n",
    "print(a)"
   ]
  },
  {
   "cell_type": "markdown",
   "metadata": {},
   "source": [
    "### 連結と分割\n",
    "- 連結\n",
    "    - axis=0, vstack:行方向↓\n",
    "        - vはvertical(垂直)\n",
    "    - axis=1, hstack:列方向→\n",
    "        - hはhorizontal(水平)\n",
    "- 分割\n",
    "    - vsplit:行方向分割\n",
    "    - hsplit:列方向分割\n"
   ]
  },
  {
   "cell_type": "code",
   "execution_count": 38,
   "metadata": {},
   "outputs": [
    {
     "name": "stdout",
     "output_type": "stream",
     "text": [
      "====行列の連結=======\n",
      "[1 2 3 2 3 4]\n",
      "=================\n",
      "[[ 1  2  3 10]\n",
      " [ 2  3  4 20]]\n",
      "hstack関数でも同様に列方向に連結\n",
      "[[ 1  2  3 10]\n",
      " [ 2  3  4 20]]\n",
      "vstack関数で行方向に連結\n",
      "[[ 1  2  3]\n",
      " [ 2  3  4]\n",
      " [10 20 30]]\n"
     ]
    }
   ],
   "source": [
    "print(\"====行列の連結=======\")\n",
    "a = np.array([1,2,3])\n",
    "b = np.array([2,3,4])\n",
    "c = np.concatenate([a, b])\n",
    "print(c)\n",
    "\n",
    "print(\"=================\")\n",
    "d1 = np.array([[1,2,3], [2,3,4]])\n",
    "d2 = np.array([[10],[20]])\n",
    "d3 = np.concatenate([d1, d2], axis=1) # axisはどの方向で連結するか 0：行方向、1:列方向\n",
    "print(d3)\n",
    "\n",
    "print(\"hstack関数でも同様に列方向に連結\")\n",
    "e1 = np.hstack([d1, d2])\n",
    "print(e1)\n",
    "print(\"vstack関数で行方向に連結\")\n",
    "d4 = np.array([10,20,30])\n",
    "e2 = np.vstack([d1, d4])\n",
    "print(e2)"
   ]
  },
  {
   "cell_type": "code",
   "execution_count": 39,
   "metadata": {},
   "outputs": [
    {
     "name": "stdout",
     "output_type": "stream",
     "text": [
      "[[ 1  2  3]\n",
      " [ 2  3  4]\n",
      " [10 20 30]]\n",
      "[[ 1  2]\n",
      " [ 2  3]\n",
      " [10 20]]\n",
      "[[ 3]\n",
      " [ 4]\n",
      " [30]]\n",
      "=====================\n",
      "[[1 2 3]\n",
      " [2 3 4]]\n",
      "[[10 20 30]]\n"
     ]
    }
   ],
   "source": [
    "print(e2)\n",
    "first, second = np.hsplit(e2, [2])\n",
    "print(first)\n",
    "print(second)\n",
    "print(\"=====================\")\n",
    "first1, second1 = np.vsplit(e2, [2])\n",
    "print(first1)\n",
    "print(second1)\n"
   ]
  },
  {
   "cell_type": "markdown",
   "metadata": {},
   "source": [
    "### 転置\n",
    "- m×n行列をn×m行列へ変換\n"
   ]
  },
  {
   "cell_type": "code",
   "execution_count": 40,
   "metadata": {},
   "outputs": [
    {
     "name": "stdout",
     "output_type": "stream",
     "text": [
      "[[1 2 3]\n",
      " [4 5 6]\n",
      " [7 8 9]]\n",
      "[[1 4 7]\n",
      " [2 5 8]\n",
      " [3 6 9]]\n"
     ]
    }
   ],
   "source": [
    "a = np.array([[1,2,3],[4,5,6],[7,8,9]])\n",
    "print(a)\n",
    "a2 = a.T # <- 転置\n",
    "print(a2)"
   ]
  },
  {
   "cell_type": "markdown",
   "metadata": {},
   "source": [
    "### 次元追加\n",
    "- newaxis or reshapeで追加できる\n",
    "    - newaxisは要素数の指定は必要ない\n",
    "    - reshapeでは要素数の指定が必要"
   ]
  },
  {
   "cell_type": "code",
   "execution_count": 41,
   "metadata": {},
   "outputs": [
    {
     "name": "stdout",
     "output_type": "stream",
     "text": [
      "[1 2 3]\n",
      "[[1 2 3]]\n",
      "[[1]\n",
      " [2]\n",
      " [3]]\n"
     ]
    }
   ],
   "source": [
    "a = np.array([1,2,3])\n",
    "print(a)\n",
    "a2 = a[np.newaxis, :] # <-行方向へ次元を増やす\n",
    "print(a2)\n",
    "a3 = a[:, np.newaxis] # <- 列方向へ次元を増やす\n",
    "print(a3)"
   ]
  },
  {
   "cell_type": "code",
   "execution_count": 42,
   "metadata": {},
   "outputs": [
    {
     "name": "stdout",
     "output_type": "stream",
     "text": [
      "[0 1 2 3]\n",
      "[4 5 6]\n",
      "=======\n",
      "[[0 1 2 3]\n",
      " [0 1 2 3]\n",
      " [0 1 2 3]]\n",
      "=======\n",
      "[[4 4 4 4]\n",
      " [5 5 5 5]\n",
      " [6 6 6 6]]\n"
     ]
    }
   ],
   "source": [
    "m = np.arange(0, 4)\n",
    "print(m)\n",
    "n = np.arange(4,7)\n",
    "print(n)\n",
    "print(\"=======\")\n",
    "xx, yy = np.meshgrid(m, n)\n",
    "print(xx) # 第一引数 m を行方向に　第二引数 nの配列の長さ分コピーされる\n",
    "print(\"=======\")\n",
    "print(yy) # 第二引数 n を列方向に 第一引数 m の配列の長さ分コピー"
   ]
  },
  {
   "cell_type": "markdown",
   "metadata": {},
   "source": [
    "### ユニバーサルファンクション\n",
    "- 配列要素ないのデータを一括変換\n"
   ]
  },
  {
   "cell_type": "code",
   "execution_count": 43,
   "metadata": {},
   "outputs": [
    {
     "name": "stdout",
     "output_type": "stream",
     "text": [
      "[[3, 2, 1], [0, 1, 2]]\n",
      "[2 3 4]\n"
     ]
    }
   ],
   "source": [
    "# 配列要素の絶対値を返す処理：通常実装\n",
    "li = [[-3,-2,-1],[0,1,2]]\n",
    "new = []\n",
    "for i, j in enumerate(li):\n",
    "    new.append([])\n",
    "    for k in j:\n",
    "        new[i].append(abs(k))\n",
    "print(new)\n",
    "\n",
    "# NumPyを用いた実装\n",
    "numpy_new = np.abs(b)\n",
    "print(numpy_new)"
   ]
  },
  {
   "cell_type": "markdown",
   "metadata": {},
   "source": [
    "### その他の変数生成\n",
    "- cos\n",
    "- sin\n",
    "- log\n",
    "- log10\n",
    "- exp"
   ]
  },
  {
   "cell_type": "code",
   "execution_count": 45,
   "metadata": {},
   "outputs": [
    {
     "name": "stdout",
     "output_type": "stream",
     "text": [
      "[-1.         -0.77777778 -0.55555556 -0.33333333 -0.11111111  0.11111111\n",
      "  0.33333333  0.55555556  0.77777778  1.        ]\n",
      "sin関数の実行\n",
      "[-0.84147098 -0.70169788 -0.52741539 -0.3271947  -0.11088263  0.11088263\n",
      "  0.3271947   0.52741539  0.70169788  0.84147098]\n",
      "cos関数の実行\n",
      "[0.54030231 0.71247462 0.84960756 0.94495695 0.99383351 0.99383351\n",
      " 0.94495695 0.84960756 0.71247462 0.54030231]\n",
      "======================\n",
      "[0.         0.69314718 1.09861229]\n",
      "#########\n",
      "[0.         0.30103    0.47712125 0.30103    0.47712125 0.60205999]\n",
      "#########\n",
      "[ 2.71828183  7.3890561  20.08553692]\n"
     ]
    }
   ],
   "source": [
    "e = np.linspace(-1,1,10)\n",
    "print(e)\n",
    "print(\"sin関数の実行\") # 正弦\n",
    "print(np.sin(e))\n",
    "print(\"cos関数の実行\") # 余弦\n",
    "print(np.cos(e))\n",
    "\n",
    "print(\"======================\")\n",
    "# -infと警告が発生　-infはマイナス無限大を意味\n",
    "print(np.log(a))\n",
    "print(\"#########\")\n",
    "print(np.log10(c)) \n",
    "print(\"#########\")\n",
    "print(np.exp(a)) # eのx乗を表現\n",
    "\n",
    "\n"
   ]
  },
  {
   "cell_type": "code",
   "execution_count": 46,
   "metadata": {},
   "outputs": [
    {
     "name": "stdout",
     "output_type": "stream",
     "text": [
      "[1 2 3]\n",
      "[11 12 13]\n",
      "############\n",
      "[1 2 3]\n",
      "[2 3 4]\n",
      "[3 5 7]\n",
      "############\n",
      "[1 2 3]\n",
      "[[1]\n",
      " [2]\n",
      " [3]]\n",
      "[[2 3 4]\n",
      " [3 4 5]\n",
      " [4 5 6]]\n"
     ]
    }
   ],
   "source": [
    "# ブロードキャスト\n",
    "a2 = a + 10\n",
    "print(a)\n",
    "print(a2)\n",
    "print(\"############\")\n",
    "print(a)\n",
    "print(b)\n",
    "a3 = a + b\n",
    "print(a3)\n",
    "print(\"############\")\n",
    "ax = a[:, np.newaxis]\n",
    "print(a)\n",
    "print(ax)\n",
    "a4 = a + ax\n",
    "print(a4)"
   ]
  },
  {
   "cell_type": "code",
   "execution_count": null,
   "metadata": {},
   "outputs": [],
   "source": []
  },
  {
   "cell_type": "code",
   "execution_count": 49,
   "metadata": {},
   "outputs": [
    {
     "name": "stdout",
     "output_type": "stream",
     "text": [
      "[0 1 2]\n",
      "[[-3 -2 -1]\n",
      " [ 0  1  2]]\n",
      "#############\n",
      "[-4  5]\n",
      "[-4  5]\n",
      "#####################\n",
      "[[-3 -2 -1]\n",
      " [ 0  1  2]]\n",
      "[[0 1]\n",
      " [2 3]\n",
      " [4 5]]\n",
      "[[ -8 -14]\n",
      " [ 10  13]]\n",
      "[[  0   1   2]\n",
      " [ -6  -1   4]\n",
      " [-12  -3   6]]\n"
     ]
    }
   ],
   "source": [
    "a = np.arange(3)\n",
    "b = np.arange(-3,3).reshape((2,3))\n",
    "c = np.arange(1,7).reshape((2,3))\n",
    "d = np.arange(6).reshape((3,2))\n",
    "e = np.linspace(-1,1,10)\n",
    "# 配列の掛け算\n",
    "print(a)\n",
    "print(b)\n",
    "print(\"#############\")\n",
    "x1 = np.dot(b, a)\n",
    "x2 = b @ a # ver3.5以降はこちらも利用可能\n",
    "print(x1)\n",
    "print(x2)\n",
    "\n",
    "# 配列の掛け算は行列の形状が大切、行列の形式が不敵だった場合は、ValueErrorが発生\n",
    "print(\"#####################\")\n",
    "print(b)\n",
    "print(d)\n",
    "print(b @ d)\n",
    "print(d @ b)"
   ]
  },
  {
   "cell_type": "code",
   "execution_count": 51,
   "metadata": {},
   "outputs": [
    {
     "name": "stdout",
     "output_type": "stream",
     "text": [
      "[0 1 2]\n",
      "[[-3 -2 -1]\n",
      " [ 0  1  2]]\n",
      "[False False  True]\n",
      "[[False False False]\n",
      " [False  True  True]]\n",
      "trueの数をカウントします:2\n",
      "np.sumでも同様の結果が得られます:2\n",
      "np.anyでTrueの存在を確認しますTrue\n",
      "np.allで全ての要素がTrueかを確認:False\n",
      "[1 2]\n",
      "配列同士の比較\n",
      "[0 1 2]\n",
      "[[-3 -2 -1]\n",
      " [ 0  1  2]]\n",
      "[[1 2 3]\n",
      " [4 5 6]]\n",
      "[[False False False]\n",
      " [False False False]]\n",
      "[[False False False]\n",
      " [ True  True  True]]\n",
      "#################\n",
      "[[False False False]\n",
      " [ True  True  True]]\n",
      "[0 1 2]\n",
      "[[-3 -2 -1]\n",
      " [ 0  1  2]]\n",
      "[[1 2 3]\n",
      " [4 5 6]]\n",
      "np.allcloseは要素の判定ではなく誤差の範囲内の判定化を確認しています::False\n",
      "誤差を指定すると結果が変わります:True\n"
     ]
    }
   ],
   "source": [
    "# 真偽値\n",
    "print(a)\n",
    "print(b)\n",
    "x1 = a > 1 # 配列の各要素についてTrue, Falseを判定して、格納した配列を作成\n",
    "x2 = b > 0\n",
    "print(x1)\n",
    "print(x2)\n",
    "# True: 1, False:0なので、0でない数をカウントすればOK\n",
    "print(f\"trueの数をカウントします:{np.count_nonzero(x2)}\")\n",
    "print(f\"np.sumでも同様の結果が得られます:{np.sum(x2)}\")\n",
    "\n",
    "print(f\"np.anyでTrueの存在を確認します{np.any(x2)}\")\n",
    "print(f\"np.allで全ての要素がTrueかを確認:{np.all(x2)}\")\n",
    "\n",
    "# 新規配列を作成\n",
    "new_b = b[b>0] # 0以上の要素だけを抽出して新規配列作成\n",
    "print(new_b)\n",
    "print(\"配列同士の比較\")\n",
    "print(a)\n",
    "print(b)\n",
    "print(c)\n",
    "print(b == c) \n",
    "print(a == b) # 形状が異なる場合はブロードキャストされて形状を揃えて実行される\n",
    "print(\"#################\")\n",
    "print((b == c)| (a == b))\n",
    "new_array = b[(b==c)|(a==b)]\n",
    "print(new_array)\n",
    "\n",
    "print(b)\n",
    "print(c)\n",
    "x = np.allclose(b, c)\n",
    "print(f\"np.allcloseは要素の判定ではなく誤差の範囲内の判定化を確認しています::{x}\")\n",
    "x2 = np.allclose(b, c, atol=10.0)\n",
    "print(f\"誤差を指定すると結果が変わります:{x2}\")\n"
   ]
  },
  {
   "cell_type": "markdown",
   "metadata": {},
   "source": [
    "NumPyには、配列用の `ndarray` と行列用の `matrix` があります。\n",
    "\n",
    "### 配列用の `ndarray`\n",
    "\n",
    "```python\n",
    "import numpy as np\n",
    "\n",
    "a = np.array([[1, 2], [3, 4]])\n",
    "print(type(a))  # 出力: <class 'numpy.ndarray'>\n",
    "```\n",
    "### 行列用の`matrix`\n",
    "```python\n",
    "b = np.matrix([[1, 2], [3, 4]])\n",
    "print(type(b))  # 出力: <class 'numpy.matrix'>\n",
    "```\n",
    "\n",
    "### 違い\n",
    "- どちらも同じ形状だが、`matrix`は行列として定義される\n",
    "    - ndarray a*aは要素ごとの積\n",
    "    - matrix b*bは行列の積"
   ]
  },
  {
   "cell_type": "code",
   "execution_count": 52,
   "metadata": {},
   "outputs": [
    {
     "name": "stdout",
     "output_type": "stream",
     "text": [
      "[[ 1  4]\n",
      " [ 9 16]]\n",
      "[[ 7 10]\n",
      " [15 22]]\n"
     ]
    }
   ],
   "source": [
    "# ndarrayとmatrix\n",
    "import numpy as np\n",
    "\n",
    "a = np.array([[1, 2], [3, 4]])\n",
    "result_ndarray = a * a\n",
    "print(result_ndarray)  # 出力: [[ 1  4]\n",
    "                        #      [ 9 16]]\n",
    "\n",
    "b = np.matrix([[1, 2], [3, 4]])\n",
    "result_matrix = b * b\n",
    "print(result_matrix)  # 出力: [[ 7 10]\n",
    "                       #      [15 22]]\n"
   ]
  },
  {
   "cell_type": "code",
   "execution_count": 53,
   "metadata": {},
   "outputs": [
    {
     "name": "stdout",
     "output_type": "stream",
     "text": [
      "[2 2]\n",
      "4\n",
      "[12 16]\n"
     ]
    }
   ],
   "source": [
    "# dotの取り方 ベクトルの内積を取るためのメソッド\n",
    "a = np.array([1, 1])\n",
    "\n",
    "b = np.array([2, 2])\n",
    "\n",
    "c = np.array([[3, 3], \n",
    "              [4, 4]])\n",
    "\n",
    "d = np.array([[5, 5], \n",
    "              [6, 6], \n",
    "              [7, 7]])\n",
    "\n",
    "print(a * b)\n",
    "print(np.dot(a, b))\n",
    "print(np.dot(c, b))"
   ]
  },
  {
   "cell_type": "code",
   "execution_count": null,
   "metadata": {},
   "outputs": [],
   "source": []
  }
 ],
 "metadata": {
  "kernelspec": {
   "display_name": ".studyenv",
   "language": "python",
   "name": "python3"
  },
  "language_info": {
   "codemirror_mode": {
    "name": "ipython",
    "version": 3
   },
   "file_extension": ".py",
   "mimetype": "text/x-python",
   "name": "python",
   "nbconvert_exporter": "python",
   "pygments_lexer": "ipython3",
   "version": "3.11.0"
  }
 },
 "nbformat": 4,
 "nbformat_minor": 2
}
