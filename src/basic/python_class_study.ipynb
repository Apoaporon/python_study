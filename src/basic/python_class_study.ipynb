{
 "cells": [
  {
   "cell_type": "markdown",
   "metadata": {},
   "source": [
    "### 関数のスコープがどこにあるかを確認する\n",
    "- global キーワードは、関数内でグローバルスコープ（モジュールレベルのスコープ）にある変数を参照および変更するために使われます。\n",
    "- nonlocal キーワードは、ネストされた関数（内側の関数）からその外側の関数（直接の外側のスコープ）の変数を参照および変更するために使われます。"
   ]
  },
  {
   "cell_type": "code",
   "execution_count": 2,
   "metadata": {},
   "outputs": [
    {
     "name": "stdout",
     "output_type": "stream",
     "text": [
      "A: 関数内に変数を定義\n",
      "B: これはどこで発動しますか？\n",
      "C: これはどこで発動しますか？\n",
      "D: globalの値を変形します\n"
     ]
    }
   ],
   "source": [
    "def scope():\n",
    "    loc = \"関数内に変数を定義\"\n",
    "    # 関数内に関数を定義\n",
    "    def do_local():\n",
    "        loc = \"関数の中の関数に変数を定義\"\n",
    "    def do_nonlocal():\n",
    "        nonlocal loc # scope内のlocを参照\n",
    "        # ここでlocを変換する\n",
    "        loc = \"これはどこで発動しますか？\"\n",
    "    def do_global():\n",
    "        global loc\n",
    "        loc = \"globalの値を変形します\"\n",
    "\n",
    "    do_local()\n",
    "    print(\"A:\", loc)\n",
    "    do_nonlocal()\n",
    "    print(\"B:\", loc)\n",
    "    do_global()\n",
    "    print(\"C:\", loc)\n",
    "loc = \"関数外です\"\n",
    "scope()\n",
    "# globalの値を変換している\n",
    "print(\"D:\", loc)"
   ]
  },
  {
   "cell_type": "markdown",
   "metadata": {},
   "source": [
    "## クラス\n"
   ]
  },
  {
   "cell_type": "code",
   "execution_count": 1,
   "metadata": {},
   "outputs": [],
   "source": [
    "class Duck:\n",
    "    # クラス変数を定義\n",
    "    # クラス変数はクラス内で全て共通だからselfつけない\n",
    "    family = \"Anatidae\"\n",
    "\n",
    "    # __init__の定義\n",
    "    def __init__(self):\n",
    "        print(\"initが呼ばれましたよ\")\n",
    "        self.bird = \"quack\"\n",
    "    \n",
    "    # メソッドの定義\n",
    "    def show_family(self):\n",
    "        print(self.bird)\n",
    "        return f\"Duckss belong to the family {self.family}\"\n",
    "    \n",
    "    def sing(self):\n",
    "        bird = \"ga-ga\"\n",
    "        print(\"このbirdは関数内のbirdです。bird == \", bird)\n",
    "        print(\"このbirdはインスタンス変数のbird self.bird == \", self.bird)\n",
    "        bird = \"gekogeko\" # 関数内のbirdを更新　インスタンス変数には影響なし\n",
    "        self.bird = \"hoge---\" # インスタンス変数を更新 関数内birdには影響なし\n",
    "        print(\"このbirdは関数内のbirdです。bird == \", bird)\n",
    "        print(\"このbirdはインスタンス変数のbird self.bird == \", self.bird)\n"
   ]
  },
  {
   "cell_type": "code",
   "execution_count": 2,
   "metadata": {},
   "outputs": [],
   "source": [
    "# 派生クラスの作成\n",
    "class hogehogeDuck(Duck):\n",
    "    family = \"hogehoge\"\n",
    "    \n",
    "    def show_family(self):\n",
    "        test = super().show_family()\n",
    "        print(\"super().メソッド名を指定すると基底クラスのメソッド呼び出し==\", test)\n",
    "        return f\"何も返したくありませんでした。\""
   ]
  },
  {
   "cell_type": "code",
   "execution_count": 3,
   "metadata": {},
   "outputs": [
    {
     "name": "stdout",
     "output_type": "stream",
     "text": [
      "initが呼ばれましたよ\n",
      "quack\n",
      "Duckss belong to the family Anatidae\n",
      "Anatidae\n",
      "このbirdは関数内のbirdです。bird ==  ga-ga\n",
      "このbirdはインスタンス変数のbird self.bird ==  quack\n",
      "このbirdは関数内のbirdです。bird ==  gekogeko\n",
      "このbirdはインスタンス変数のbird self.bird ==  hoge---\n",
      "####\n",
      "initが呼ばれましたよ\n",
      "hogehoge\n",
      "quack\n",
      "super().メソッド名を指定すると基底クラスのメソッド呼び出し== Duckss belong to the family hogehoge\n",
      "何も返したくありませんでした。\n"
     ]
    }
   ],
   "source": [
    "hoge = Duck() #コンストラクタを生成するとinitが呼ばれるのでインスタンス変数にアクセスできるようになる\n",
    "print(hoge.show_family())\n",
    "print(Duck.family)\n",
    "hoge.sing()\n",
    "\n",
    "print(\"####\")\n",
    "hoge2 = hogehogeDuck()\n",
    "print(hoge2.family)\n",
    "print(hoge2.show_family())\n",
    "\n"
   ]
  },
  {
   "cell_type": "code",
   "execution_count": 4,
   "metadata": {},
   "outputs": [
    {
     "name": "stdout",
     "output_type": "stream",
     "text": [
      "True\n",
      "False\n",
      "True\n",
      "True\n"
     ]
    }
   ],
   "source": [
    "# インスタンスかどうかを確認する方法\n",
    "print(isinstance(hoge, Duck)) # 変数hogeはDuckインスタンスから生成されているからTrue\n",
    "print(isinstance(hoge, hogehogeDuck)) # 変数hogeはDuckインスタンスを継承したhogehogeDuckからは生成されていない（親から子は見えない的な）なのでFalse\n",
    "print(isinstance(hoge2, Duck)) #hoge2はhogehogeDuckから生成されているが、hogehogeDuckはDuckインスタンスを継承しているためTure\n",
    "print(isinstance(hoge2, hogehogeDuck)) # hoge2はhogehogeDuckから生成されているのでTrue"
   ]
  },
  {
   "cell_type": "code",
   "execution_count": null,
   "metadata": {},
   "outputs": [],
   "source": []
  }
 ],
 "metadata": {
  "kernelspec": {
   "display_name": ".studyenv",
   "language": "python",
   "name": "python3"
  },
  "language_info": {
   "codemirror_mode": {
    "name": "ipython",
    "version": 3
   },
   "file_extension": ".py",
   "mimetype": "text/x-python",
   "name": "python",
   "nbconvert_exporter": "python",
   "pygments_lexer": "ipython3",
   "version": "3.11.0"
  }
 },
 "nbformat": 4,
 "nbformat_minor": 2
}
