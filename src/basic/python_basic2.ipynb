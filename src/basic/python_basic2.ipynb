{
 "cells": [
  {
   "cell_type": "markdown",
   "metadata": {},
   "source": [
    "### collections\n",
    "- リスト、タプル、辞書などの基本的なデータ構造を拡張した特殊なデータ構造を提供します"
   ]
  },
  {
   "cell_type": "code",
   "execution_count": 4,
   "metadata": {},
   "outputs": [
    {
     "name": "stdout",
     "output_type": "stream",
     "text": [
      "deque(['hoge', 'fuga'])\n",
      "deque(['hoge', 'fuga', 'hogehoge'])\n",
      "deque(['hello', 'hoge', 'fuga', 'hogehoge'])\n",
      "deque(['hoge', 'fuga', 'hogehoge'])\n",
      "deque(['hoge', 'fuga'])\n"
     ]
    }
   ],
   "source": [
    "from collections import deque\n",
    "\n",
    "queue = deque(['hoge', 'fuga'])\n",
    "print(queue)\n",
    "# 末尾に追加\n",
    "queue.append('hogehoge')\n",
    "print(queue)\n",
    "# 先頭に追加\n",
    "queue.appendleft('hello')\n",
    "print(queue)\n",
    "# 先頭をpop\n",
    "queue.popleft()\n",
    "print(queue)\n",
    "# 末尾をpop\n",
    "queue.pop()\n",
    "print(queue)"
   ]
  },
  {
   "cell_type": "markdown",
   "metadata": {},
   "source": [
    "## リスト内包括表記の書き方\n",
    "- [式 for 任意の変数名 in range()など]という形で表現する"
   ]
  },
  {
   "cell_type": "code",
   "execution_count": 6,
   "metadata": {},
   "outputs": [
    {
     "name": "stdout",
     "output_type": "stream",
     "text": [
      "リスト内表記=={1: 1, 3: 27, 6: 216}\n",
      "リスト内包括を利用しない場合=={1: 1, 3: 27, 6: 216}\n",
      "[2, 4, 6, 8, 10, 12, 14, 16, 18]\n"
     ]
    }
   ],
   "source": [
    "\n",
    "# リスト内包表記の書き方\n",
    "d = {x: x**3 for x in (1,3,6)}\n",
    "print(f\"リスト内表記=={d}\")\n",
    "# dと同じ書き方\n",
    "not_d = {}\n",
    "for x in (1,3,6):\n",
    "    not_d[x] = x**3\n",
    "print(f\"リスト内包括を利用しない場合=={not_d}\")\n",
    "\n",
    "d2 = [i*2 for i in range(1,10)]\n",
    "print(d2)"
   ]
  },
  {
   "cell_type": "code",
   "execution_count": 2,
   "metadata": {},
   "outputs": [
    {
     "name": "stdout",
     "output_type": "stream",
     "text": [
      "<zip object at 0x103877f80>\n",
      "[(1, 4, 8), (3, 9, 27), (5, 25, 125)]\n",
      "[(1, 4, 8), (3, 9, 27), (5, 25, 125)]\n"
     ]
    }
   ],
   "source": [
    "matrix = [[1, 3, 5], [4, 9, 25], [8, 27, 125]]\n",
    "# zip(*matrix) は matrix を転置した zip オブジェクトを生成\n",
    "print(zip(*matrix))\n",
    "# list(zip(*matrix)) はその zip オブジェクトをリストとして取得。\n",
    "print(list(zip(*matrix)))\n",
    "power = list(zip(*matrix))\n",
    "print(power)"
   ]
  },
  {
   "cell_type": "code",
   "execution_count": 16,
   "metadata": {},
   "outputs": [
    {
     "name": "stdout",
     "output_type": "stream",
     "text": [
      "statisticsは数理統計関数が得意な関数です\n",
      "平均はmean===0\n",
      "中央値 median==-1\n",
      "不変分散はvariance==5\n"
     ]
    }
   ],
   "source": [
    "import statistics\n",
    "# 様々なリスト内表記\n",
    "data = [-1, -1, -1, -1, 4]\n",
    "print(\"statisticsは数理統計関数が得意な関数です\")\n",
    "print(f\"平均はmean==={statistics.mean(data)}\")\n",
    "print(f\"中央値 median=={statistics.median(data)}\")\n",
    "print(f\"不変分散はvariance=={statistics.variance(data)}\")\n"
   ]
  },
  {
   "cell_type": "code",
   "execution_count": 18,
   "metadata": {},
   "outputs": [
    {
     "name": "stdout",
     "output_type": "stream",
     "text": [
      "pprintはprety printの略\n",
      "['sample test string 0000',\n",
      " 'sample test string 0001',\n",
      " 'sample test string 0002',\n",
      " 'sample test string 0003']\n",
      "########\n",
      "[{'Age': 18, 'Name': 'Youtarin XXX', 'Points': [70, 30]},\n",
      " {'Age': 19, 'Name': 'No-tarin YYY', 'Points': [40, 60]},\n",
      " {'Age': 20, 'Name': 'tarin ZZZ', 'Points': [50, 50]}]\n",
      "########\n",
      "[  {'Age': 18, 'Name': 'Youtarin XXX', 'Points': [70, 30]},\n",
      "   {'Age': 19, 'Name': 'No-tarin YYY', 'Points': [40, 60]},\n",
      "   {'Age': 20, 'Name': 'tarin ZZZ', 'Points': [50, 50]}]\n"
     ]
    }
   ],
   "source": [
    "import pprint\n",
    "\n",
    "lines = [f'sample test string {i:04}' for i in range(4)]\n",
    "l = [{\"Name\": \"Youtarin XXX\", \"Age\":18, \"Points\":[70, 30]},{\"Name\": \"No-tarin YYY\", \"Age\":19, \"Points\":[40, 60]},{\"Name\": \"tarin ZZZ\", \"Age\":20, \"Points\":[50, 50]}]\n",
    "\n",
    "print(\"pprintはprety printの略\")\n",
    "pprint.pprint(lines)\n",
    "print(\"########\")\n",
    "pprint.pprint(l)\n",
    "print(\"########\")\n",
    "pprint.pprint(l, indent=3, depth=3)"
   ]
  },
  {
   "cell_type": "code",
   "execution_count": 22,
   "metadata": {},
   "outputs": [
    {
     "name": "stdout",
     "output_type": "stream",
     "text": [
      "#####\n",
      "widthで指定した文字列分1行で表示し改行する([]も外れる)\n",
      "1 sheep jumped a fence.,\n",
      "2 sheep jumped a fence.,\n",
      "3 sheep jumped a fence.\n",
      "#####\n",
      "改行されないです\n",
      "['1 sheep jumped a fence.', '2 sheep jumped a fence.', '3 sheep jumped a fence.']\n",
      "#####\n",
      "pprintを利用するとリスト状態で改行される[]も外れない\n",
      "['1 sheep jumped a fence.',\n",
      " '2 sheep jumped a fence.',\n",
      " '3 sheep jumped a fence.']\n",
      "#####\n",
      "改行でjoinしている\n",
      "1 sheep jumped a fence.¥n2 sheep jumped a fence.¥n3 sheep jumped a fence.\n"
     ]
    }
   ],
   "source": [
    "import textwrap\n",
    "# リスト内表記で文字列を格納したリストを作成\n",
    "text = [f\"{i} sheep jumped a fence.\" for i in range(1, 4)]\n",
    "\n",
    "print(\"#####\")\n",
    "print(\"widthで指定した文字列分1行で表示し改行する([]も外れる)\")\n",
    "print(textwrap.fill(\", \".join(text), width=24)) # widthで指定した文字数が1行で表示！\n",
    "print(\"#####\")\n",
    "print(\"改行されないです\")\n",
    "print(text)\n",
    "print(\"#####\")\n",
    "print(\"pprintを利用するとリスト状態で改行される[]も外れない\")\n",
    "pprint.pprint(text)\n",
    "print(\"#####\")\n",
    "print(\"改行でjoinしている\")\n",
    "print(\"¥n\".join(text))"
   ]
  },
  {
   "cell_type": "code",
   "execution_count": 5,
   "metadata": {},
   "outputs": [
    {
     "name": "stdout",
     "output_type": "stream",
     "text": [
      "random.random()は0.0 ~1.0未満の浮動小数点数を表示==0.1213915111498417\n",
      "-1以上1未満にするにはrandom.random() * 2 -1とする==-0.9749836477843141\n",
      "リスト内からランダムに1つ取り出す時はchoice:pear\n",
      "指定範囲から指定の個数をとるときに利用するのはsample:[8, 5, 2]\n",
      "指定の範囲から特定の数字を取ってくるのはrandrange:2\n"
     ]
    }
   ],
   "source": [
    "import random\n",
    "\n",
    "# random()内に引数をセットすることはできない\n",
    "print(f\"random.random()は0.0 ~1.0未満の浮動小数点数を表示=={random.random()}\")\n",
    "print(f\"-1以上1未満にするにはrandom.random() * 2 -1とする=={random.random() * 2 -1}\")\n",
    "\n",
    "# リストから1つランダムに取り出す時はchoice\n",
    "print(f\"リスト内からランダムに1つ取り出す時はchoice:{random.choice(['apple', 'pear', 'banana'])}\")\n",
    "# 範囲の中から指定の個数とるときに利用するのはsample\n",
    "print(f\"指定範囲から指定の個数をとるときに利用するのはsample:{random.sample(range(10), 3)}\")\n",
    "\n",
    "print(f\"指定の範囲から特定の数字を取ってくるのはrandrange:{random.randrange(5)}\")\n",
    "\n"
   ]
  },
  {
   "cell_type": "code",
   "execution_count": 2,
   "metadata": {},
   "outputs": [
    {
     "data": {
      "text/plain": [
       "['__breakpointhook__',\n",
       " '__displayhook__',\n",
       " '__doc__',\n",
       " '__excepthook__',\n",
       " '__interactivehook__',\n",
       " '__loader__',\n",
       " '__name__',\n",
       " '__package__',\n",
       " '__spec__',\n",
       " '__stderr__',\n",
       " '__stdin__',\n",
       " '__stdout__',\n",
       " '__unraisablehook__',\n",
       " '_base_executable',\n",
       " '_clear_type_cache',\n",
       " '_current_exceptions',\n",
       " '_current_frames',\n",
       " '_debugmallocstats',\n",
       " '_framework',\n",
       " '_getframe',\n",
       " '_getquickenedcount',\n",
       " '_git',\n",
       " '_home',\n",
       " '_stdlib_dir',\n",
       " '_xoptions',\n",
       " 'abiflags',\n",
       " 'addaudithook',\n",
       " 'api_version',\n",
       " 'argv',\n",
       " 'audit',\n",
       " 'base_exec_prefix',\n",
       " 'base_prefix',\n",
       " 'breakpointhook',\n",
       " 'builtin_module_names',\n",
       " 'byteorder',\n",
       " 'call_tracing',\n",
       " 'copyright',\n",
       " 'displayhook',\n",
       " 'dont_write_bytecode',\n",
       " 'exc_info',\n",
       " 'excepthook',\n",
       " 'exception',\n",
       " 'exec_prefix',\n",
       " 'executable',\n",
       " 'exit',\n",
       " 'flags',\n",
       " 'float_info',\n",
       " 'float_repr_style',\n",
       " 'get_asyncgen_hooks',\n",
       " 'get_coroutine_origin_tracking_depth',\n",
       " 'get_int_max_str_digits',\n",
       " 'getallocatedblocks',\n",
       " 'getdefaultencoding',\n",
       " 'getdlopenflags',\n",
       " 'getfilesystemencodeerrors',\n",
       " 'getfilesystemencoding',\n",
       " 'getprofile',\n",
       " 'getrecursionlimit',\n",
       " 'getrefcount',\n",
       " 'getsizeof',\n",
       " 'getswitchinterval',\n",
       " 'gettrace',\n",
       " 'hash_info',\n",
       " 'hexversion',\n",
       " 'implementation',\n",
       " 'int_info',\n",
       " 'intern',\n",
       " 'is_finalizing',\n",
       " 'maxsize',\n",
       " 'maxunicode',\n",
       " 'meta_path',\n",
       " 'modules',\n",
       " 'orig_argv',\n",
       " 'path',\n",
       " 'path_hooks',\n",
       " 'path_importer_cache',\n",
       " 'platform',\n",
       " 'platlibdir',\n",
       " 'prefix',\n",
       " 'ps1',\n",
       " 'ps2',\n",
       " 'ps3',\n",
       " 'pycache_prefix',\n",
       " 'set_asyncgen_hooks',\n",
       " 'set_coroutine_origin_tracking_depth',\n",
       " 'set_int_max_str_digits',\n",
       " 'setdlopenflags',\n",
       " 'setprofile',\n",
       " 'setrecursionlimit',\n",
       " 'setswitchinterval',\n",
       " 'settrace',\n",
       " 'stderr',\n",
       " 'stdin',\n",
       " 'stdlib_module_names',\n",
       " 'stdout',\n",
       " 'thread_info',\n",
       " 'unraisablehook',\n",
       " 'version',\n",
       " 'version_info',\n",
       " 'warnoptions']"
      ]
     },
     "execution_count": 2,
     "metadata": {},
     "output_type": "execute_result"
    }
   ],
   "source": [
    "import sys\n",
    "\n",
    "dir(sys) # モジュールが定義されている名前を確認する"
   ]
  },
  {
   "cell_type": "code",
   "execution_count": 4,
   "metadata": {},
   "outputs": [
    {
     "name": "stdout",
     "output_type": "stream",
     "text": [
      "1を指定しているので2つ目の変数を代入2.718, 0を指定しているので1つ目の変数を代入3.14159\n"
     ]
    }
   ],
   "source": [
    "import math\n",
    "# 0と1が逆になっているので参照順序が逆\n",
    "print('1を指定しているので2つ目の変数を代入{1:.3f}, 0を指定しているので1つ目の変数を代入{0:.5f}'.format(math.pi, math.e)) "
   ]
  },
  {
   "cell_type": "code",
   "execution_count": null,
   "metadata": {},
   "outputs": [],
   "source": []
  }
 ],
 "metadata": {
  "kernelspec": {
   "display_name": ".studyenv",
   "language": "python",
   "name": "python3"
  },
  "language_info": {
   "codemirror_mode": {
    "name": "ipython",
    "version": 3
   },
   "file_extension": ".py",
   "mimetype": "text/x-python",
   "name": "python",
   "nbconvert_exporter": "python",
   "pygments_lexer": "ipython3",
   "version": "3.11.0"
  }
 },
 "nbformat": 4,
 "nbformat_minor": 2
}
